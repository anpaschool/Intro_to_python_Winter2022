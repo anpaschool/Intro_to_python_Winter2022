{
 "cells": [
  {
   "cell_type": "markdown",
   "id": "important-battlefield",
   "metadata": {},
   "source": [
    "# ANPA Intro to Python Class 1"
   ]
  },
  {
   "cell_type": "raw",
   "id": "chief-ballot",
   "metadata": {},
   "source": [
    "## Introduction to Data Types\n",
    "1. String: Alphabets --> Put inside quotation Mark. e.g. \"Ram\", \"ram\", \"A2B\"\n",
    "2. Integer\n",
    "3. Float: Real numbers\n",
    "4. Categorical Data:[\"Male\",\"Female\"],[\"S\",\"M\",\"L\"]. \n",
    "5. Datetime"
   ]
  },
  {
   "cell_type": "code",
   "execution_count": 1,
   "id": "enhanced-encounter",
   "metadata": {},
   "outputs": [],
   "source": [
    "# List: One Method to collect data\n",
    "people = [\"ram\",\"shyam\", \"hari\"] # Data inside square brackets"
   ]
  },
  {
   "cell_type": "code",
   "execution_count": 2,
   "id": "eligible-ensemble",
   "metadata": {},
   "outputs": [
    {
     "name": "stdout",
     "output_type": "stream",
     "text": [
      "['ram', 'shyam', 'hari']\n"
     ]
    }
   ],
   "source": [
    "print (people)"
   ]
  },
  {
   "cell_type": "code",
   "execution_count": 3,
   "id": "manual-shadow",
   "metadata": {},
   "outputs": [
    {
     "name": "stdout",
     "output_type": "stream",
     "text": [
      "<class 'list'>\n",
      "['ram', 'shyam', 'hari']\n"
     ]
    }
   ],
   "source": [
    "print (type(people))\n",
    "print (people)"
   ]
  },
  {
   "cell_type": "code",
   "execution_count": 4,
   "id": "chicken-toner",
   "metadata": {},
   "outputs": [
    {
     "data": {
      "text/plain": [
       "(3, 1, [1, 2, 3])"
      ]
     },
     "execution_count": 4,
     "metadata": {},
     "output_type": "execute_result"
    }
   ],
   "source": [
    "L = [1,2,3,4,5]\n",
    "#Indexing\n",
    "L[2],L[0], L[0:3] # Python does zero indexing"
   ]
  },
  {
   "cell_type": "code",
   "execution_count": 5,
   "id": "cordless-olive",
   "metadata": {},
   "outputs": [
    {
     "data": {
      "text/plain": [
       "[1, 2, 3, 4, 5, 10]"
      ]
     },
     "execution_count": 5,
     "metadata": {},
     "output_type": "execute_result"
    }
   ],
   "source": [
    "# Adding stuff to list\n",
    "L.append(10)\n",
    "L"
   ]
  },
  {
   "cell_type": "code",
   "execution_count": 6,
   "id": "alternate-smell",
   "metadata": {},
   "outputs": [
    {
     "data": {
      "text/plain": [
       "(25, 1, 10)"
      ]
     },
     "execution_count": 6,
     "metadata": {},
     "output_type": "execute_result"
    }
   ],
   "source": [
    "sum(L), min(L), max(L)"
   ]
  },
  {
   "cell_type": "code",
   "execution_count": 7,
   "id": "valuable-arena",
   "metadata": {},
   "outputs": [
    {
     "data": {
      "text/plain": [
       "[1, 2, 3.5, 'a']"
      ]
     },
     "execution_count": 7,
     "metadata": {},
     "output_type": "execute_result"
    }
   ],
   "source": [
    "# List can have any data type\n",
    "L1 = [1,2,3.5,\"a\"]\n",
    "L1"
   ]
  },
  {
   "cell_type": "code",
   "execution_count": 8,
   "id": "national-rabbit",
   "metadata": {},
   "outputs": [
    {
     "data": {
      "text/plain": [
       "[1, 2, 3.5, 'a']"
      ]
     },
     "execution_count": 8,
     "metadata": {},
     "output_type": "execute_result"
    }
   ],
   "source": [
    "L1"
   ]
  },
  {
   "cell_type": "code",
   "execution_count": 9,
   "id": "suited-variable",
   "metadata": {},
   "outputs": [],
   "source": [
    "L1 = [1,2,3]\n",
    "L2 = [2,3,4]"
   ]
  },
  {
   "cell_type": "code",
   "execution_count": 10,
   "id": "duplicate-scholar",
   "metadata": {},
   "outputs": [
    {
     "data": {
      "text/plain": [
       "[1, 2, 3]"
      ]
     },
     "execution_count": 10,
     "metadata": {},
     "output_type": "execute_result"
    }
   ],
   "source": [
    "L1"
   ]
  },
  {
   "cell_type": "code",
   "execution_count": 11,
   "id": "collectible-attraction",
   "metadata": {},
   "outputs": [
    {
     "data": {
      "text/plain": [
       "([1, 2, 3, 2, 3, 4], list)"
      ]
     },
     "execution_count": 11,
     "metadata": {},
     "output_type": "execute_result"
    }
   ],
   "source": [
    "L1 + L2, type(L1+L2)"
   ]
  },
  {
   "cell_type": "code",
   "execution_count": 12,
   "id": "false-sheffield",
   "metadata": {},
   "outputs": [
    {
     "data": {
      "text/plain": [
       "({1, 2, 3, 4}, set)"
      ]
     },
     "execution_count": 12,
     "metadata": {},
     "output_type": "execute_result"
    }
   ],
   "source": [
    "set(L1+L2), type(set(L1+L2))"
   ]
  },
  {
   "cell_type": "code",
   "execution_count": 13,
   "id": "ultimate-evidence",
   "metadata": {},
   "outputs": [
    {
     "data": {
      "text/plain": [
       "[1, 2, 3, 4]"
      ]
     },
     "execution_count": 13,
     "metadata": {},
     "output_type": "execute_result"
    }
   ],
   "source": [
    "list(set(L1+L2))"
   ]
  },
  {
   "cell_type": "markdown",
   "id": "superb-litigation",
   "metadata": {},
   "source": [
    "## Array"
   ]
  },
  {
   "cell_type": "code",
   "execution_count": 14,
   "id": "eleven-third",
   "metadata": {},
   "outputs": [
    {
     "data": {
      "text/plain": [
       "(numpy.ndarray, numpy.ndarray)"
      ]
     },
     "execution_count": 14,
     "metadata": {},
     "output_type": "execute_result"
    }
   ],
   "source": [
    "## Adding list\n",
    "## Array\n",
    "import numpy as np\n",
    "L1 = np.array(L1) \n",
    "L2 = np.array(L2)\n",
    "type(L1), type(L2)"
   ]
  },
  {
   "cell_type": "code",
   "execution_count": 15,
   "id": "domestic-radical",
   "metadata": {},
   "outputs": [
    {
     "data": {
      "text/plain": [
       "array([3, 5, 7])"
      ]
     },
     "execution_count": 15,
     "metadata": {},
     "output_type": "execute_result"
    }
   ],
   "source": [
    "L1 + L2 # Matrix multiplication, cross product etc can all be done using numpy. "
   ]
  },
  {
   "cell_type": "code",
   "execution_count": 16,
   "id": "revolutionary-nightlife",
   "metadata": {},
   "outputs": [
    {
     "data": {
      "text/plain": [
       "((3,), (3,))"
      ]
     },
     "execution_count": 16,
     "metadata": {},
     "output_type": "execute_result"
    }
   ],
   "source": [
    "L1.shape, (L1+L2).shape"
   ]
  },
  {
   "cell_type": "code",
   "execution_count": 17,
   "id": "catholic-effort",
   "metadata": {},
   "outputs": [
    {
     "data": {
      "text/plain": [
       "(2, 3)"
      ]
     },
     "execution_count": 17,
     "metadata": {},
     "output_type": "execute_result"
    }
   ],
   "source": [
    "L3 = np.array([[1,2,3],[3,4,3]]) # format Row,Column\n",
    "L3.shape"
   ]
  },
  {
   "cell_type": "markdown",
   "id": "random-general",
   "metadata": {},
   "source": [
    "## Dictionary"
   ]
  },
  {
   "cell_type": "code",
   "execution_count": 18,
   "id": "technical-livestock",
   "metadata": {},
   "outputs": [
    {
     "data": {
      "text/plain": [
       "{'fruit': ['apple', 'banana'], 'veg': 'carrot', 'num': 2}"
      ]
     },
     "execution_count": 18,
     "metadata": {},
     "output_type": "execute_result"
    }
   ],
   "source": [
    "# word: Meaning\n",
    "# key: value\n",
    "D = {'fruit':['apple','banana'],\n",
    "    'veg':'carrot',\n",
    "    'num': 2}\n",
    "D"
   ]
  },
  {
   "cell_type": "code",
   "execution_count": 19,
   "id": "funded-option",
   "metadata": {},
   "outputs": [
    {
     "data": {
      "text/plain": [
       "(dict_keys(['fruit', 'veg', 'num']),\n",
       " dict_values([['apple', 'banana'], 'carrot', 2]))"
      ]
     },
     "execution_count": 19,
     "metadata": {},
     "output_type": "execute_result"
    }
   ],
   "source": [
    "D.keys(), D.values()"
   ]
  },
  {
   "cell_type": "code",
   "execution_count": 20,
   "id": "stainless-aspect",
   "metadata": {},
   "outputs": [],
   "source": [
    "D['fruit'].append('cc')"
   ]
  },
  {
   "cell_type": "code",
   "execution_count": 21,
   "id": "destroyed-cooperative",
   "metadata": {},
   "outputs": [
    {
     "data": {
      "text/plain": [
       "{'fruit': ['apple', 'banana', 'cc'], 'veg': 'carrot', 'num': 2, 'add': 'value'}"
      ]
     },
     "execution_count": 21,
     "metadata": {},
     "output_type": "execute_result"
    }
   ],
   "source": [
    "## Append is done using update command\n",
    "D.update({'add':'value'})\n",
    "D"
   ]
  },
  {
   "cell_type": "code",
   "execution_count": 22,
   "id": "miniature-dallas",
   "metadata": {},
   "outputs": [],
   "source": [
    "E = {\"a\":'b'}"
   ]
  },
  {
   "cell_type": "code",
   "execution_count": 23,
   "id": "retired-coverage",
   "metadata": {},
   "outputs": [
    {
     "data": {
      "text/plain": [
       "{'fruit': ['apple', 'banana', 'cc'],\n",
       " 'veg': 'carrot',\n",
       " 'num': 2,\n",
       " 'add': 'value',\n",
       " 'a': 'b'}"
      ]
     },
     "execution_count": 23,
     "metadata": {},
     "output_type": "execute_result"
    }
   ],
   "source": [
    "D.update(E)\n",
    "D"
   ]
  },
  {
   "cell_type": "code",
   "execution_count": 24,
   "id": "hungarian-carpet",
   "metadata": {},
   "outputs": [],
   "source": [
    "## Tuple\n",
    "g = (9.8,)"
   ]
  },
  {
   "cell_type": "markdown",
   "id": "necessary-texture",
   "metadata": {},
   "source": [
    "# Loops"
   ]
  },
  {
   "cell_type": "code",
   "execution_count": 25,
   "id": "recorded-candle",
   "metadata": {},
   "outputs": [],
   "source": [
    "# for, if, while"
   ]
  },
  {
   "cell_type": "code",
   "execution_count": 26,
   "id": "ecological-welcome",
   "metadata": {},
   "outputs": [
    {
     "data": {
      "text/plain": [
       "[1, 2, 3, 4, 5, 10]"
      ]
     },
     "execution_count": 26,
     "metadata": {},
     "output_type": "execute_result"
    }
   ],
   "source": [
    "L"
   ]
  },
  {
   "cell_type": "code",
   "execution_count": 27,
   "id": "grateful-recipient",
   "metadata": {},
   "outputs": [
    {
     "data": {
      "text/plain": [
       "([1, 2, 3, 4, 5, 10, 1, 2, 3, 4, 5, 10, 1, 2, 3, 4, 5, 10],\n",
       " array([ 3,  6,  9, 12, 15, 30]))"
      ]
     },
     "execution_count": 27,
     "metadata": {},
     "output_type": "execute_result"
    }
   ],
   "source": [
    "L*3, np.array(L)*3"
   ]
  },
  {
   "cell_type": "code",
   "execution_count": 28,
   "id": "social-gilbert",
   "metadata": {},
   "outputs": [
    {
     "name": "stdout",
     "output_type": "stream",
     "text": [
      "2\n",
      "6\n",
      "10\n",
      "14\n",
      "18\n",
      "38\n"
     ]
    }
   ],
   "source": [
    "# each_element*4 -2 \n",
    "# For loop\n",
    "for items in L:\n",
    "    print (items*4 - 2)"
   ]
  },
  {
   "cell_type": "code",
   "execution_count": 29,
   "id": "julian-gothic",
   "metadata": {},
   "outputs": [],
   "source": [
    "## save\n",
    "M = []\n",
    "for items in L:\n",
    "    M.append(items*4 - 2)"
   ]
  },
  {
   "cell_type": "code",
   "execution_count": 30,
   "id": "express-queue",
   "metadata": {},
   "outputs": [
    {
     "data": {
      "text/plain": [
       "[2, 6, 10, 14, 18, 38]"
      ]
     },
     "execution_count": 30,
     "metadata": {},
     "output_type": "execute_result"
    }
   ],
   "source": [
    "M"
   ]
  },
  {
   "cell_type": "code",
   "execution_count": 31,
   "id": "binary-grade",
   "metadata": {},
   "outputs": [
    {
     "name": "stdout",
     "output_type": "stream",
     "text": [
      "range(0, 2)\n"
     ]
    }
   ],
   "source": [
    "print(range(2))"
   ]
  },
  {
   "cell_type": "code",
   "execution_count": 32,
   "id": "vocal-calgary",
   "metadata": {},
   "outputs": [
    {
     "name": "stdout",
     "output_type": "stream",
     "text": [
      "i= 0\n",
      "j= 0\n",
      "j= 3\n",
      "j= 6\n",
      "i= 3\n",
      "j= 0\n",
      "j= 3\n",
      "j= 6\n",
      "i= 6\n",
      "j= 0\n",
      "j= 3\n",
      "j= 6\n"
     ]
    }
   ],
   "source": [
    "# Nested loop\n",
    "for i in range(0,7,3):\n",
    "    print (\"i=\",i)\n",
    "    for j in range(0,7,3):\n",
    "        print (\"j=\",j)"
   ]
  },
  {
   "cell_type": "code",
   "execution_count": 33,
   "id": "constant-walker",
   "metadata": {},
   "outputs": [
    {
     "name": "stdout",
     "output_type": "stream",
     "text": [
      "0 equals 0\n",
      "0 not equal to 3\n",
      "0 not equal to 6\n",
      "3 not equal to 0\n",
      "3 equals 3\n",
      "3 not equal to 6\n",
      "6 not equal to 0\n",
      "6 not equal to 3\n",
      "6 equals 6\n"
     ]
    }
   ],
   "source": [
    "## If loop\n",
    "#### Print only if i=j\n",
    "for i in range(0,7,3):\n",
    "    for j in range(0,7,3):\n",
    "        if i == j:\n",
    "            print (i, \"equals\", j)\n",
    "        else:\n",
    "            print (i, \"not equal to\", j)\n",
    "            \n",
    "        \n",
    "        #print (\"j=\",j)"
   ]
  },
  {
   "cell_type": "code",
   "execution_count": 34,
   "id": "casual-bolivia",
   "metadata": {},
   "outputs": [],
   "source": [
    "## if: else\n",
    "## if, elif, elif,............, else!"
   ]
  },
  {
   "cell_type": "code",
   "execution_count": 35,
   "id": "funny-administration",
   "metadata": {},
   "outputs": [
    {
     "data": {
      "text/plain": [
       "[1, 2, 3, 4, 5, 10]"
      ]
     },
     "execution_count": 35,
     "metadata": {},
     "output_type": "execute_result"
    }
   ],
   "source": [
    "L"
   ]
  },
  {
   "cell_type": "code",
   "execution_count": 36,
   "id": "accomplished-court",
   "metadata": {},
   "outputs": [
    {
     "name": "stdout",
     "output_type": "stream",
     "text": [
      "C\n",
      "B\n",
      "B\n",
      "B\n",
      "B\n",
      "A\n"
     ]
    }
   ],
   "source": [
    "for i in L:\n",
    "    if i >5:\n",
    "        print (\"A\")\n",
    "    elif i <=5 and i >=2:\n",
    "        print (\"B\")\n",
    "    else:\n",
    "        print (\"C\")"
   ]
  },
  {
   "cell_type": "markdown",
   "id": "cooked-heritage",
   "metadata": {},
   "source": [
    "#  Plotting in Python"
   ]
  },
  {
   "cell_type": "code",
   "execution_count": 37,
   "id": "ordered-contamination",
   "metadata": {},
   "outputs": [],
   "source": [
    "x= [1,2,3,4]\n",
    "y = [4,5,6,7]"
   ]
  },
  {
   "cell_type": "code",
   "execution_count": 38,
   "id": "similar-fighter",
   "metadata": {},
   "outputs": [],
   "source": [
    "import matplotlib.pyplot as plt"
   ]
  },
  {
   "cell_type": "code",
   "execution_count": 39,
   "id": "informational-regular",
   "metadata": {},
   "outputs": [
    {
     "data": {
      "image/png": "[encoded data removed]",
      "text/plain": [
       "<Figure size 432x288 with 1 Axes>"
      ]
     },
     "metadata": {
      "needs_background": "light"
     },
     "output_type": "display_data"
    }
   ],
   "source": [
    "plt.plot(x,y,'r*',linestyle = 'dashed', linewidth = 2, markersize = 14)\n",
    "plt.title(\"ABC\", fontsize = 20)\n",
    "plt.xlabel(\"x\")\n",
    "plt.ylabel(\"y\")\n",
    "plt.xticks(fontsize = 15);"
   ]
  },
  {
   "cell_type": "code",
   "execution_count": 40,
   "id": "sixth-replacement",
   "metadata": {},
   "outputs": [],
   "source": [
    "# https://matplotlib.org/"
   ]
  },
  {
   "cell_type": "markdown",
   "id": "dental-cabinet",
   "metadata": {},
   "source": [
    "HW1:\n",
    "L1=[1,2,3] and L2=[3,4,5]. Use for loop to add L1 and L2. [Hint: Use nested 'for' loop example we did in class].\n",
    "\n",
    "HW2:\n",
    "y=sin(x). Create a loop where x varies from 0 to 720 degree and\n",
    "store value of y into a list. [use 'range' to loop through. Make sure Sin(30)=0.5 :) )\n",
    "[use numpy]\n",
    "\n",
    "HW3:\n",
    "    Create a for loop to go through these angles [10,15,20,25,30,35,40,45,50] to\n",
    "    (i) determine range of  a projectile fired from ground speed = 30m/s.\n",
    "    (ii) Save this as a list [angle,range] for all values of angles.\n",
    "    (iii) Determine maximum height reached. Save its as dictonary {angle:height}. \n",
    "    (iv) Create a plot of angle vs. Range and another plot of angle vs. max height reached.\n",
    "\n",
    "HW4:\n",
    "    Currency=[1,2,5,10,20,50]\n",
    "    #You need to return 14. Cashier = [10->1,2->2]\n",
    "    Create a for loop to return 127.\n",
    " \n",
    "HW5: x=[1,...10], y1=3x**2-log(x), y2=2**x-5x\n",
    "Create a dualaxis plot of this. # You will need to google a little to create this plot.\n",
    "\n",
    "HW6: Radioactive decay\n",
    "N(t) =N(0).exp(-lambda*t) for Uranium. Create a plot of this decay that includes 5 half-lives. Use standard value of lambda and start with one million atoms.\n",
    "    "
   ]
  },
  {
   "cell_type": "code",
   "execution_count": 41,
   "id": "impressed-surgery",
   "metadata": {
    "scrolled": false
   },
   "outputs": [
    {
     "name": "stdout",
     "output_type": "stream",
     "text": [
      "absl-py==0.9.0\n",
      "affine==2.3.0\n",
      "alabaster==0.7.12\n",
      "altair @ file:///tmp/build/80754af9/altair_1599835197802/work\n",
      "anaconda-client==1.7.2\n",
      "anaconda-navigator==1.10.0\n",
      "anaconda-project @ file:///tmp/build/80754af9/anaconda-project_1610472525955/work\n",
      "anyio==3.6.1\n",
      "appdirs==1.4.4\n",
      "argon2-cffi @ file:///C:/ci/argon2-cffi_1613038019788/work\n",
      "arrow==0.14.7\n",
      "asn1crypto @ file:///tmp/build/80754af9/asn1crypto_1596577642040/work\n",
      "astor==0.8.1\n",
      "astroid @ file:///C:/ci/astroid_1592481955828/work\n",
      "astropy==4.0\n",
      "asttokens==2.1.0\n",
      "astunparse==1.6.3\n",
      "async-generator==1.10\n",
      "atomicwrites==1.4.0\n",
      "attention==3.0\n",
      "attrs @ file:///tmp/build/80754af9/attrs_1604765588209/work\n",
      "autopep8==1.5.7\n",
      "Babel @ file:///tmp/build/80754af9/babel_1607110387436/work\n",
      "backcall @ file:///home/ktietz/src/ci/backcall_1611930011877/work\n",
      "backports.functools-lru-cache @ file:///tmp/build/80754af9/backports.functools_lru_cache_1605305165209/work\n",
      "backports.os==0.1.1\n",
      "backports.shutil-get-terminal-size @ file:///tmp/build/80754af9/backports.shutil_get_terminal_size_1608222128777/work\n",
      "backports.tempfile @ file:///home/linux1/recipes/ci/backports.tempfile_1610991236607/work\n",
      "backports.weakref==1.0.post1\n",
      "beautifulsoup4 @ file:///home/linux1/recipes/ci/beautifulsoup4_1610988766420/work\n",
      "bio==1.4.0\n",
      "biopandas==0.4.1\n",
      "biopython==1.79\n",
      "biothings-client==0.2.6\n",
      "bitarray @ file:///C:/ci/bitarray_1611254433170/work\n",
      "bkcharts==0.2\n",
      "blaze==0.11.3\n",
      "bleach @ file:///tmp/build/80754af9/bleach_1612211392645/work\n",
      "blis==0.4.1\n",
      "bokeh @ file:///C:/ci/bokeh_1603297932359/work\n",
      "boto==2.49.0\n",
      "boto3==1.12.22\n",
      "botocore==1.15.22\n",
      "Bottleneck==1.3.2\n",
      "branca==0.3.1\n",
      "brotlipy==0.7.0\n",
      "cachetools==4.0.0\n",
      "Cartopy==0.17.0\n",
      "catalogue==1.0.0\n",
      "certifi==2020.12.5\n",
      "cffi @ file:///C:/ci/cffi_1613247308275/work\n",
      "chardet==3.0.4\n",
      "chart-studio==1.1.0\n",
      "click @ file:///home/linux1/recipes/ci/click_1610990599742/work\n",
      "click-plugins==1.1.1\n",
      "cligj==0.7.1\n",
      "cloudpickle @ file:///tmp/build/80754af9/cloudpickle_1598884132938/work\n",
      "clyent==1.2.2\n",
      "colorama @ file:///tmp/build/80754af9/colorama_1607707115595/work\n",
      "colorlover==0.3.0\n",
      "comtypes==1.1.8\n",
      "conda==4.9.2\n",
      "conda-build==3.18.11\n",
      "conda-package-handling @ file:///C:/ci/conda-package-handling_1603018162806/work\n",
      "conda-verify==3.4.2\n",
      "contextily==1.0.0\n",
      "contextlib2==0.6.0.post1\n",
      "cplex==12.10.0.2\n",
      "cryptography @ file:///C:/ci/cryptography_1613401470461/work\n",
      "cufflinks==0.17.3\n",
      "cvxopt==1.2.3\n",
      "cycler==0.10.0\n",
      "cymem==2.0.3\n",
      "Cython @ file:///C:/ci/cython_1605457674480/work\n",
      "cytoolz==0.11.0\n",
      "dask @ file:///tmp/build/80754af9/dask-core_1613253194046/work\n",
      "datashape==0.5.4\n",
      "decorator @ file:///home/ktietz/src/ci/decorator_1611930055503/work\n",
      "defusedxml @ file:///home/ktietz/src/ci_mi/defusedxml_1612808095953/work\n",
      "Deprecated @ file:///home/conda/feedstock_root/build_artifacts/deprecated_1589409885623/work\n",
      "descartes==1.1.0\n",
      "dill==0.3.2\n",
      "dimod==0.9.1\n",
      "distlib==0.3.1\n",
      "distributed @ file:///C:/ci/distributed_1613253635210/work\n",
      "dlx==1.0.4\n",
      "docloud==1.0.375\n",
      "docplex==2.11.176\n",
      "docutils==0.16\n",
      "dwave-cloud-client==0.7.2\n",
      "dwave-hybrid==0.4.3\n",
      "dwave-inspector==0.1.5\n",
      "dwave-neal==0.5.4\n",
      "dwave-networkx==0.8.6\n",
      "dwave-ocean-sdk==2.1.1\n",
      "dwave-qbsolv==0.3.0\n",
      "dwave-system==0.9.4\n",
      "dwave-tabu==0.2.2\n",
      "dwavebinarycsp==0.1.2\n",
      "en-core-web-sm==2.2.5\n",
      "entrypoints==0.3\n",
      "et-xmlfile==1.0.1\n",
      "executing==1.2.0\n",
      "facets-overview==1.0.0\n",
      "fastapi==0.78.0\n",
      "fastcache==1.1.0\n",
      "fastdtw==0.3.4\n",
      "fastjsonschema==2.14.4\n",
      "filelock @ file:///home/linux1/recipes/ci/filelock_1610993975404/work\n",
      "Fiona==1.8.4\n",
      "Flask @ file:///home/ktietz/src/ci/flask_1611932660458/work\n",
      "Flask-Cors==3.0.8\n",
      "folium==0.8.0\n",
      "fsspec @ file:///tmp/build/80754af9/fsspec_1602684995936/work\n",
      "future==0.18.2\n",
      "gast==0.3.3\n",
      "GDAL==2.3.3\n",
      "gensim==3.8.1\n",
      "geographiclib==1.50\n",
      "geojson==2.5.0\n",
      "geopandas==0.6.3\n",
      "geoplot @ file:///home/conda/feedstock_root/build_artifacts/geoplot_1589812057611/work\n",
      "geopy @ file:///home/conda/feedstock_root/build_artifacts/geopy_1589314920058/work\n",
      "gevent @ file:///C:/ci/gevent_1611076746009/work\n",
      "glob2 @ file:///home/linux1/recipes/ci/glob2_1610991677669/work\n",
      "gmplot==1.2.0\n",
      "google-api-core @ file:///Users/runner/miniforge3/conda-bld/google-api-core-split_1601998551628/work\n",
      "google-api-python-client==1.7.11\n",
      "google-auth==1.27.0\n",
      "google-auth-httplib2==0.0.3\n",
      "google-auth-oauthlib==0.4.1\n",
      "google-cloud-bigquery @ file:///home/conda/feedstock_root/build_artifacts/google-cloud-bigquery-split_1602260382952/work\n",
      "google-cloud-bigquery-storage==0.6.0\n",
      "google-cloud-core @ file:///home/conda/feedstock_root/build_artifacts/google-cloud-core_1608136972897/work\n",
      "google-cloud-language==1.3.0\n",
      "google-cloud-storage==1.24.1\n",
      "google-crc32c @ file:///D:/bld/google-crc32c_1611954416927/work\n",
      "google-pasta==0.2.0\n",
      "google-resumable-media @ file:///home/conda/feedstock_root/build_artifacts/google-resumable-media_1608141079349/work\n",
      "googleapis-common-protos @ file:///D:/bld/googleapis-common-protos-feedstock_1604414969165/work\n",
      "graphviz==0.13.2\n",
      "greenlet @ file:///C:/ci/greenlet_1611958376725/work\n",
      "grpcio==1.35.0\n",
      "h11==0.13.0\n",
      "h5py==2.10.0\n",
      "haversine==2.5.1\n",
      "HeapDict==1.0.1\n",
      "homebase==1.0.1\n",
      "html5lib @ file:///tmp/build/80754af9/html5lib_1593446221756/work\n",
      "httplib2==0.15.0\n",
      "hypothesis @ file:///tmp/build/80754af9/hypothesis_1612212383553/work\n",
      "ibm-quantum-widgets==1.0.3\n",
      "icecream==2.1.3\n",
      "ics==0.7\n",
      "idna==2.9\n",
      "imagecodecs @ file:///C:/ci/imagecodecs_1611243754207/work\n",
      "imageio @ file:///tmp/build/80754af9/imageio_1594161405741/work\n",
      "imagesize @ file:///home/ktietz/src/ci/imagesize_1611921604382/work\n",
      "importlib-metadata @ file:///tmp/build/80754af9/importlib-metadata_1602276842396/work\n",
      "inflection==0.3.1\n",
      "intel-openmp==2019.0\n",
      "ipykernel @ file:///C:/ci/ipykernel_1596208728219/work/dist/ipykernel-5.3.4-py3-none-any.whl\n",
      "ipython @ file:///C:/ci/ipython_1612213113434/work\n",
      "ipython-genutils @ file:///tmp/build/80754af9/ipython_genutils_1606773439826/work\n",
      "ipywidgets @ file:///tmp/build/80754af9/ipywidgets_1610481889018/work\n",
      "isort @ file:///tmp/build/80754af9/isort_1612243941122/work\n",
      "itsdangerous==1.1.0\n",
      "jdcal==1.4.1\n",
      "jedi==0.16.0\n",
      "Jinja2 @ file:///tmp/build/80754af9/jinja2_1612213139570/work\n",
      "jmespath==0.9.5\n",
      "joblib @ file:///tmp/build/80754af9/joblib_1607970656719/work\n",
      "json5==0.9.5\n",
      "jsonschema @ file:///tmp/build/80754af9/jsonschema_1602607155483/work\n",
      "jupyter==1.0.0\n",
      "jupyter-client @ file:///tmp/build/80754af9/jupyter_client_1601311786391/work\n",
      "jupyter-console @ file:///tmp/build/80754af9/jupyter_console_1598884538475/work\n",
      "jupyter-core @ file:///C:/ci/jupyter_core_1612213516947/work\n",
      "jupyterlab==2.2.6\n",
      "jupyterlab-pygments @ file:///tmp/build/80754af9/jupyterlab_pygments_1601490720602/work\n",
      "jupyterlab-server @ file:///tmp/build/80754af9/jupyterlab_server_1594164409481/work\n",
      "jupyterlab-widgets @ file:///tmp/build/80754af9/jupyterlab_widgets_1609884341231/work\n",
      "kaggle==1.5.6\n",
      "Keras==2.3.1\n",
      "Keras-Applications==1.0.8\n",
      "Keras-Preprocessing==1.1.2\n",
      "keyring @ file:///C:/ci/keyring_1611778886866/work\n",
      "kiwisolver @ file:///C:/ci/kiwisolver_1612282618948/work\n",
      "lazy-object-proxy @ file:///C:/b/work\n",
      "libarchive-c @ file:///home/linux1/recipes/ci/python-libarchive-c_1610974153025/work\n",
      "llvmlite==0.34.0\n",
      "locket==0.2.1\n",
      "lxml @ file:///C:/ci/lxml_1606516935960/work\n",
      "mapclassify @ file:///tmp/build/80754af9/mapclassify_1608756659434/work\n",
      "Markdown==3.2.1\n",
      "MarkupSafe @ file:///C:/ci/markupsafe_1594405949945/work\n",
      "marshmallow==3.3.0\n",
      "marshmallow-polyfield==5.7\n",
      "matplotlib @ file:///C:/ci/matplotlib-suite_1613408055530/work\n",
      "mccabe==0.6.1\n",
      "menuinst==1.4.16\n",
      "mercantile==1.1.4\n",
      "metakernel==0.24.4\n"
     ]
    },
    {
     "name": "stderr",
     "output_type": "stream",
     "text": [
      "WARNING: Could not generate requirement for distribution -rpcio 1.27.2 (c:\\users\\plasm\\appdata\\roaming\\python\\python37\\site-packages): Parse error at \"'-rpcio=='\": Expected W:(abcd...)\n",
      "WARNING: Could not generate requirement for distribution -rotobuf 3.11.3 (c:\\users\\plasm\\appdata\\roaming\\python\\python37\\site-packages): Parse error at \"'-rotobuf'\": Expected W:(abcd...)\n",
      "WARNING: Could not generate requirement for distribution -yarrow 0.11.1 (c:\\users\\plasm\\anaconda3\\lib\\site-packages): Parse error at \"'-yarrow='\": Expected W:(abcd...)\n",
      "WARNING: Could not generate requirement for distribution -iskit-terra 0.14.2 (c:\\users\\plasm\\anaconda3\\lib\\site-packages): Parse error at \"'-iskit-t'\": Expected W:(abcd...)\n",
      "WARNING: Could not generate requirement for distribution -iskit-aer 0.5.2 (c:\\users\\plasm\\anaconda3\\lib\\site-packages): Parse error at \"'-iskit-a'\": Expected W:(abcd...)\n"
     ]
    },
    {
     "name": "stdout",
     "output_type": "stream",
     "text": [
      "minorminer==0.1.9\n",
      "mistune @ file:///C:/ci/mistune_1594373272338/work\n",
      "mkl==2019.0\n",
      "mkl-fft==1.2.0\n",
      "mkl-random==1.1.1\n",
      "mkl-service==2.3.0\n",
      "mock @ file:///tmp/build/80754af9/mock_1607622725907/work\n",
      "more-itertools==5.0.0\n",
      "mpmath==1.1.0\n",
      "msgpack @ file:///C:/ci/msgpack-python_1612287191162/work\n",
      "multipledispatch==0.6.0\n",
      "multitasking==0.0.9\n",
      "munch==2.5.0\n",
      "murmurhash==1.0.2\n",
      "mygene==3.2.2\n",
      "mypy-extensions==0.4.3\n",
      "navigator-updater==0.2.1\n",
      "nbclient @ file:///tmp/build/80754af9/nbclient_1602783176460/work\n",
      "nbconvert @ file:///C:/ci/nbconvert_1601914921407/work\n",
      "nbformat @ file:///tmp/build/80754af9/nbformat_1610738111109/work\n",
      "ndg-httpsclient==0.5.1\n",
      "neo4j==4.1.1\n",
      "nest-asyncio @ file:///tmp/build/80754af9/nest-asyncio_1606153767164/work\n",
      "networkx @ file:///tmp/build/80754af9/networkx_1598376031484/work\n",
      "nltk @ file:///tmp/build/80754af9/nltk_1592496090529/work\n",
      "nominatim==0.1\n",
      "nose @ file:///tmp/build/80754af9/nose_1606773131901/work\n",
      "notebook @ file:///C:/ci/notebook_1611348264852/work\n",
      "ntlm-auth==1.4.0\n",
      "numba==0.51.2\n",
      "numexpr @ file:///C:/ci/numexpr_1609354746321/work\n",
      "numpy==1.18.2\n",
      "numpydoc==0.9.2\n",
      "oauth2client==4.1.3\n",
      "oauthlib==3.1.0\n",
      "odo==0.5.1\n",
      "olefile==0.46\n",
      "openpyxl @ file:///tmp/build/80754af9/openpyxl_1610651698508/work\n",
      "opt-einsum==3.2.0\n",
      "ortools==7.6.7691\n",
      "OWSLib==0.17.0\n",
      "packaging @ file:///tmp/build/80754af9/packaging_1611952188834/work\n",
      "pandas @ file:///C:/ci/pandas_1611178799982/work\n",
      "pandocfilters @ file:///C:/ci/pandocfilters_1605102427207/work\n",
      "parso @ file:///tmp/build/80754af9/parso_1607623074025/work\n",
      "partd==1.1.0\n",
      "path @ file:///C:/ci/path_1611952544066/work\n",
      "pathlib-mate==1.0.1\n",
      "pathlib2 @ file:///C:/ci/pathlib2_1607025068091/work\n",
      "patsy==0.5.1\n",
      "penaltymodel==0.16.3\n",
      "penaltymodel-cache==0.4.1\n",
      "penaltymodel-lp==0.1.3\n",
      "penaltymodel-mip==0.2.3\n",
      "pep8==1.7.1\n",
      "pexpect==4.8.0\n",
      "pickleshare @ file:///tmp/build/80754af9/pickleshare_1606932040724/work\n",
      "Pillow @ file:///C:/ci/pillow_1609786872067/work\n",
      "pkginfo==1.7.0\n",
      "plac==1.1.3\n",
      "plotly==4.14.3\n",
      "plotly-geo==1.0.0\n",
      "plucky==0.4.3\n",
      "pluggy==0.13.1\n",
      "ply==3.11\n",
      "polars==0.14.18\n",
      "portalocker==2.0.0\n",
      "preshed==3.0.2\n",
      "prometheus-client @ file:///tmp/build/80754af9/prometheus_client_1606344362066/work\n",
      "prompt-toolkit @ file:///tmp/build/80754af9/prompt-toolkit_1602688806899/work\n",
      "proto-plus @ file:///home/conda/feedstock_root/build_artifacts/proto-plus_1608134504481/work\n",
      "protobuf==3.15.0\n",
      "psutil @ file:///C:/ci/psutil_1612298033174/work\n",
      "ptyprocess==0.6.0\n",
      "PuLP==2.0\n",
      "py @ file:///tmp/build/80754af9/py_1607971587848/work\n",
      "pyaml==21.10.1\n",
      "pyarrow==9.0.0\n",
      "pyasn1==0.4.8\n",
      "pyasn1-modules==0.2.8\n",
      "pybind11==2.6.2\n",
      "pycodestyle==2.7.0\n",
      "pycosat==0.6.3\n",
      "pycparser @ file:///tmp/build/80754af9/pycparser_1594388511720/work\n",
      "pycrypto==2.6.1\n",
      "pycurl==7.43.0.5\n",
      "pydantic==1.9.1\n",
      "PyDrive==1.3.1\n",
      "pyepsg==0.4.0\n",
      "pyflakes @ file:///home/ktietz/src/ci_ipy2/pyflakes_1612551159640/work\n",
      "pygame==2.0.1\n",
      "Pygments @ file:///tmp/build/80754af9/pygments_1610565767015/work\n",
      "pykdtree @ file:///C:/ci/pykdtree_1612299419049/work\n",
      "pylatexenc==2.10\n",
      "pylint @ file:///C:/ci/pylint_1598605958085/work\n",
      "pyodbc===4.0.0-unsupported\n",
      "pyOpenSSL @ file:///tmp/build/80754af9/pyopenssl_1608057966937/work\n",
      "pyparsing @ file:///home/linux1/recipes/ci/pyparsing_1610983426697/work\n",
      "pyproj==2.6.1.post1\n",
      "pyqubo==0.4.0\n",
      "pyreadline==2.1\n",
      "pyrsistent @ file:///C:/ci/pyrsistent_1600123688363/work\n",
      "pyshp==1.2.10\n",
      "PySocks @ file:///C:/ci/pysocks_1594394709107/work\n",
      "PyStemmer==1.3.0\n",
      "pytest==5.3.5\n",
      "pytest-arraydiff==0.3\n",
      "pytest-astropy==0.8.0\n",
      "pytest-astropy-header==0.1.2\n",
      "pytest-doctestplus==0.5.0\n",
      "pytest-openfiles==0.4.0\n",
      "pytest-remotedata==0.3.2\n",
      "python-constraint==1.4.0\n",
      "python-dateutil @ file:///home/ktietz/src/ci/python-dateutil_1611928101742/work\n",
      "python-mnist==0.7\n",
      "python-slugify==4.0.0\n",
      "python-utils==2.3.0\n",
      "pytz @ file:///tmp/build/80754af9/pytz_1612215392582/work\n",
      "PyWavelets @ file:///C:/ci/pywavelets_1601658407053/work\n",
      "pywin32==227\n",
      "pywin32-ctypes @ file:///C:/ci/pywin32-ctypes_1594392691209/work\n",
      "pywinpty==0.5.7\n",
      "PyYAML==5.4.1\n",
      "pyzmq==20.0.0\n",
      "qiskit==0.26.2\n",
      "qiskit-aer==0.8.2\n",
      "qiskit-aqua==0.9.1\n",
      "qiskit-ibmq-provider==0.13.1\n",
      "qiskit-ignis==0.6.0\n",
      "qiskit-terra==0.17.4\n",
      "qiskit-textbook==0.1.0\n",
      "QtAwesome @ file:///tmp/build/80754af9/qtawesome_1602272867890/work\n",
      "qtconsole @ file:///tmp/build/80754af9/qtconsole_1612458529756/work\n",
      "QtPy==1.9.0\n",
      "Quandl==3.4.8\n",
      "rasterio==1.0.21\n",
      "regex @ file:///C:/ci/regex_1606691216163/work\n",
      "requests==2.23.0\n",
      "requests-ntlm==1.1.0\n",
      "requests-oauthlib==1.3.0\n",
      "retrying==1.3.3\n",
      "retworkx==0.8.0\n",
      "rise==5.6.1\n",
      "rope @ file:///tmp/build/80754af9/rope_1602264064449/work\n",
      "rsa==4.0\n",
      "Rtree==0.9.4\n",
      "ruamel-yaml==0.15.87\n",
      "s3transfer==0.3.3\n",
      "scikit-image==0.17.2\n",
      "scikit-learn @ file:///C:/ci/scikit-learn_1598376983131/work\n",
      "scikit-optimize==0.9.0\n",
      "scipy==1.4.1\n",
      "seaborn @ file:///tmp/build/80754af9/seaborn_1608578541026/work\n",
      "Send2Trash @ file:///tmp/build/80754af9/send2trash_1607525499227/work\n",
      "Shapely==1.6.3\n",
      "shorttext==1.1.5\n",
      "simplegeneric==0.8.1\n",
      "singledispatch @ file:///tmp/build/80754af9/singledispatch_1602523705405/work\n",
      "six==1.14.0\n",
      "smart-open==1.10.0\n",
      "sniffio==1.2.0\n",
      "snowballstemmer @ file:///tmp/build/80754af9/snowballstemmer_1611258885636/work\n",
      "snuggs==1.4.7\n",
      "sortedcollections @ file:///tmp/build/80754af9/sortedcollections_1611172717284/work\n",
      "sortedcontainers @ file:///tmp/build/80754af9/sortedcontainers_1606865132123/work\n",
      "soupsieve @ file:///tmp/build/80754af9/soupsieve_1607965878077/work\n",
      "spacy==2.2.4\n",
      "Sphinx==2.4.0\n",
      "sphinxcontrib-applehelp @ file:///home/ktietz/src/ci/sphinxcontrib-applehelp_1611920841464/work\n",
      "sphinxcontrib-devhelp @ file:///home/ktietz/src/ci/sphinxcontrib-devhelp_1611920923094/work\n",
      "sphinxcontrib-htmlhelp @ file:///home/ktietz/src/ci/sphinxcontrib-htmlhelp_1611920974801/work\n",
      "sphinxcontrib-jsmath @ file:///home/ktietz/src/ci/sphinxcontrib-jsmath_1611920942228/work\n",
      "sphinxcontrib-qthelp @ file:///home/ktietz/src/ci/sphinxcontrib-qthelp_1611921055322/work\n",
      "sphinxcontrib-serializinghtml @ file:///home/ktietz/src/ci/sphinxcontrib-serializinghtml_1611920755253/work\n",
      "sphinxcontrib-websupport @ file:///tmp/build/80754af9/sphinxcontrib-websupport_1597081412696/work\n",
      "spyder==3.3.6\n",
      "spyder-kernels==0.5.2\n",
      "SQLAlchemy @ file:///C:/ci/sqlalchemy_1612467804654/work\n",
      "srsly==1.0.2\n",
      "starlette==0.19.1\n",
      "statsmodels==0.12.1\n",
      "style==1.1.0\n",
      "sympy @ file:///C:/ci/sympy_1608137734695/work\n",
      "tables==3.6.1\n",
      "TatSu==4.4.0\n",
      "tblib @ file:///tmp/build/80754af9/tblib_1597928476713/work\n",
      "tensorboard==2.4.0\n",
      "tensorboard-plugin-wit==1.7.0\n",
      "tensorflow==2.3.0\n",
      "tensorflow-docs==0.0.0\n",
      "tensorflow-estimator==2.3.0\n",
      "termcolor==1.1.0\n",
      "terminado==0.9.2\n",
      "testpath @ file:///home/ktietz/src/ci/testpath_1611930608132/work\n",
      "text-unidecode==1.3\n",
      "tf==1.0.0\n",
      "thinc==7.4.0\n",
      "threadpoolctl @ file:///tmp/tmp9twdgx9k/threadpoolctl-2.1.0-py3-none-any.whl\n",
      "tifffile @ file:///tmp/build/80754af9/tifffile_1610739638720/work\n",
      "toml @ file:///tmp/build/80754af9/toml_1592853716807/work\n",
      "toolz @ file:///home/linux1/recipes/ci/toolz_1610987900194/work\n",
      "tornado @ file:///C:/ci/tornado_1606935947090/work\n",
      "tqdm @ file:///tmp/build/80754af9/tqdm_1611857934208/work\n",
      "traitlets @ file:///home/ktietz/src/ci/traitlets_1611929699868/work\n",
      "tweepy==3.8.0\n",
      "typed-ast @ file:///C:/ci/typed-ast_1610484654578/work\n",
      "typing-extensions==4.2.0\n",
      "typing-inspect==0.6.0\n",
      "unicodecsv==0.14.1\n",
      "update==0.0.1\n",
      "uritemplate==3.0.1\n",
      "urllib3==1.25.11\n",
      "uszipcode==0.2.6\n",
      "utils==1.0.1\n",
      "uvicorn==0.18.1\n",
      "vincent==0.4.4\n",
      "virtualenv==20.4.2\n",
      "wasabi==0.6.0\n",
      "wcwidth @ file:///tmp/build/80754af9/wcwidth_1593447189090/work\n",
      "webencodings==0.5.1\n",
      "websockets==9.0.2\n",
      "Werkzeug==1.0.0\n",
      "wget==3.2\n",
      "widgetsnbextension==3.5.1\n",
      "win-inet-pton @ file:///C:/ci/win_inet_pton_1605306165655/work\n",
      "win-unicode-console==0.5\n",
      "wincertstore==0.2\n",
      "wordcloud==1.7.0\n",
      "wrapt==1.12.1\n",
      "xgboost==1.2.0\n",
      "xlrd @ file:///tmp/build/80754af9/xlrd_1608072521494/work\n",
      "XlsxWriter @ file:///home/ktietz/src/ci_ipy2/xlsxwriter_1612556818988/work\n",
      "xlwings==0.22.0\n",
      "xlwt==1.3.0\n",
      "xmltodict==0.12.0\n",
      "yfinance==0.1.55\n",
      "zict==2.0.0\n",
      "zipcodes==1.1.3\n",
      "zipp @ file:///tmp/build/80754af9/zipp_1604001098328/work\n",
      "zope.event==4.5.0\n",
      "zope.interface @ file:///C:/ci/zope.interface_1606922318101/work\n"
     ]
    }
   ],
   "source": [
    "!pip freeze"
   ]
  },
  {
   "cell_type": "code",
   "execution_count": null,
   "id": "super-rings",
   "metadata": {},
   "outputs": [],
   "source": []
  }
 ],
 "metadata": {
  "kernelspec": {
   "display_name": "Python 3",
   "language": "python",
   "name": "python3"
  },
  "language_info": {
   "codemirror_mode": {
    "name": "ipython",
    "version": 3
   },
   "file_extension": ".py",
   "mimetype": "text/x-python",
   "name": "python",
   "nbconvert_exporter": "python",
   "pygments_lexer": "ipython3",
   "version": "3.7.6"
  }
 },
 "nbformat": 4,
 "nbformat_minor": 5
}
