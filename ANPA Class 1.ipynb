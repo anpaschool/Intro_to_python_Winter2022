{
 "cells": [
  {
   "cell_type": "markdown",
   "id": "angry-wound",
   "metadata": {},
   "source": [
    "# ANPA Intro to Python Class 1"
   ]
  },
  {
   "cell_type": "raw",
   "id": "retired-equation",
   "metadata": {},
   "source": [
    "## Introduction to Data Types\n",
    "1. String: Alphabets --> Put inside quotation Mark. e.g. \"Ram\", \"ram\", \"A2B\"\n",
    "2. Integer\n",
    "3. Float: Real numbers\n",
    "4. Categorical Data:[\"Male\",\"Female\"],[\"S\",\"M\",\"L\"]. \n",
    "5. Datetime"
   ]
  },
  {
   "cell_type": "code",
   "execution_count": 1,
   "id": "directed-terrorism",
   "metadata": {},
   "outputs": [],
   "source": [
    "# List: One Method to collect data\n",
    "people = [\"ram\",\"shyam\", \"hari\"] # Data inside square brackets"
   ]
  },
  {
   "cell_type": "code",
   "execution_count": 2,
   "id": "manufactured-vacuum",
   "metadata": {},
   "outputs": [
    {
     "name": "stdout",
     "output_type": "stream",
     "text": [
      "['ram', 'shyam', 'hari']\n"
     ]
    }
   ],
   "source": [
    "print (people)"
   ]
  },
  {
   "cell_type": "code",
   "execution_count": 3,
   "id": "smooth-lingerie",
   "metadata": {},
   "outputs": [
    {
     "name": "stdout",
     "output_type": "stream",
     "text": [
      "<class 'list'>\n",
      "['ram', 'shyam', 'hari']\n"
     ]
    }
   ],
   "source": [
    "print (type(people))\n",
    "print (people)"
   ]
  },
  {
   "cell_type": "code",
   "execution_count": 4,
   "id": "objective-treaty",
   "metadata": {},
   "outputs": [
    {
     "data": {
      "text/plain": [
       "(3, 1, [1, 2, 3])"
      ]
     },
     "execution_count": 4,
     "metadata": {},
     "output_type": "execute_result"
    }
   ],
   "source": [
    "L = [1,2,3,4,5]\n",
    "#Indexing\n",
    "L[2],L[0], L[0:3] # Python does zero indexing"
   ]
  },
  {
   "cell_type": "code",
   "execution_count": 5,
   "id": "interpreted-mississippi",
   "metadata": {},
   "outputs": [
    {
     "data": {
      "text/plain": [
       "[1, 2, 3, 4, 5, 10]"
      ]
     },
     "execution_count": 5,
     "metadata": {},
     "output_type": "execute_result"
    }
   ],
   "source": [
    "# Adding stuff to list\n",
    "L.append(10)\n",
    "L"
   ]
  },
  {
   "cell_type": "code",
   "execution_count": 6,
   "id": "fifth-reward",
   "metadata": {},
   "outputs": [
    {
     "data": {
      "text/plain": [
       "(25, 1, 10)"
      ]
     },
     "execution_count": 6,
     "metadata": {},
     "output_type": "execute_result"
    }
   ],
   "source": [
    "sum(L), min(L), max(L)"
   ]
  },
  {
   "cell_type": "code",
   "execution_count": 7,
   "id": "golden-mortality",
   "metadata": {},
   "outputs": [
    {
     "data": {
      "text/plain": [
       "[1, 2, 3.5, 'a']"
      ]
     },
     "execution_count": 7,
     "metadata": {},
     "output_type": "execute_result"
    }
   ],
   "source": [
    "# List can have any data type\n",
    "L1 = [1,2,3.5,\"a\"]\n",
    "L1"
   ]
  },
  {
   "cell_type": "code",
   "execution_count": 8,
   "id": "creative-separation",
   "metadata": {},
   "outputs": [
    {
     "data": {
      "text/plain": [
       "[1, 2, 3.5, 'a']"
      ]
     },
     "execution_count": 8,
     "metadata": {},
     "output_type": "execute_result"
    }
   ],
   "source": [
    "L1"
   ]
  },
  {
   "cell_type": "code",
   "execution_count": 9,
   "id": "extended-fruit",
   "metadata": {},
   "outputs": [],
   "source": [
    "L1 = [1,2,3]\n",
    "L2 = [2,3,4]"
   ]
  },
  {
   "cell_type": "code",
   "execution_count": 10,
   "id": "standard-mercy",
   "metadata": {},
   "outputs": [
    {
     "data": {
      "text/plain": [
       "[1, 2, 3]"
      ]
     },
     "execution_count": 10,
     "metadata": {},
     "output_type": "execute_result"
    }
   ],
   "source": [
    "L1"
   ]
  },
  {
   "cell_type": "code",
   "execution_count": 12,
   "id": "architectural-ethernet",
   "metadata": {},
   "outputs": [
    {
     "data": {
      "text/plain": [
       "([1, 2, 3, 2, 3, 4], list)"
      ]
     },
     "execution_count": 12,
     "metadata": {},
     "output_type": "execute_result"
    }
   ],
   "source": [
    "L1 + L2, type(L1+L2)"
   ]
  },
  {
   "cell_type": "code",
   "execution_count": 14,
   "id": "hybrid-function",
   "metadata": {},
   "outputs": [
    {
     "data": {
      "text/plain": [
       "({1, 2, 3, 4}, set)"
      ]
     },
     "execution_count": 14,
     "metadata": {},
     "output_type": "execute_result"
    }
   ],
   "source": [
    "set(L1+L2), type(set(L1+L2))"
   ]
  },
  {
   "cell_type": "code",
   "execution_count": 15,
   "id": "effective-replacement",
   "metadata": {},
   "outputs": [
    {
     "data": {
      "text/plain": [
       "[1, 2, 3, 4]"
      ]
     },
     "execution_count": 15,
     "metadata": {},
     "output_type": "execute_result"
    }
   ],
   "source": [
    "list(set(L1+L2))"
   ]
  },
  {
   "cell_type": "markdown",
   "id": "cosmetic-values",
   "metadata": {},
   "source": [
    "## Array"
   ]
  },
  {
   "cell_type": "code",
   "execution_count": 18,
   "id": "infectious-castle",
   "metadata": {},
   "outputs": [
    {
     "data": {
      "text/plain": [
       "(numpy.ndarray, numpy.ndarray)"
      ]
     },
     "execution_count": 18,
     "metadata": {},
     "output_type": "execute_result"
    }
   ],
   "source": [
    "## Adding list\n",
    "## Array\n",
    "import numpy as np\n",
    "L1 = np.array(L1) \n",
    "L2 = np.array(L2)\n",
    "type(L1), type(L2)"
   ]
  },
  {
   "cell_type": "code",
   "execution_count": 19,
   "id": "beginning-neighborhood",
   "metadata": {},
   "outputs": [
    {
     "data": {
      "text/plain": [
       "array([3, 5, 7])"
      ]
     },
     "execution_count": 19,
     "metadata": {},
     "output_type": "execute_result"
    }
   ],
   "source": [
    "L1 + L2 # Matrix multiplication, cross product etc can all be done using numpy. "
   ]
  },
  {
   "cell_type": "code",
   "execution_count": 21,
   "id": "resident-aruba",
   "metadata": {},
   "outputs": [
    {
     "data": {
      "text/plain": [
       "((3,), (3,))"
      ]
     },
     "execution_count": 21,
     "metadata": {},
     "output_type": "execute_result"
    }
   ],
   "source": [
    "L1.shape, (L1+L2).shape"
   ]
  },
  {
   "cell_type": "code",
   "execution_count": 25,
   "id": "perceived-footage",
   "metadata": {},
   "outputs": [
    {
     "data": {
      "text/plain": [
       "(2, 3)"
      ]
     },
     "execution_count": 25,
     "metadata": {},
     "output_type": "execute_result"
    }
   ],
   "source": [
    "L3 = np.array([[1,2,3],[3,4,3]]) # format Row,Column\n",
    "L3.shape"
   ]
  },
  {
   "cell_type": "markdown",
   "id": "major-specific",
   "metadata": {},
   "source": [
    "## Dictionary"
   ]
  },
  {
   "cell_type": "code",
   "execution_count": 37,
   "id": "mediterranean-forestry",
   "metadata": {},
   "outputs": [
    {
     "data": {
      "text/plain": [
       "{'fruit': ['apple', 'banana'], 'veg': 'carrot', 'num': 2}"
      ]
     },
     "execution_count": 37,
     "metadata": {},
     "output_type": "execute_result"
    }
   ],
   "source": [
    "# word: Meaning\n",
    "# key: value\n",
    "D = {'fruit':['apple','banana'],\n",
    "    'veg':'carrot',\n",
    "    'num': 2}\n",
    "D"
   ]
  },
  {
   "cell_type": "code",
   "execution_count": 39,
   "id": "political-provider",
   "metadata": {},
   "outputs": [
    {
     "data": {
      "text/plain": [
       "(dict_keys(['fruit', 'veg', 'num']),\n",
       " dict_values([['apple', 'banana'], 'carrot', 2]))"
      ]
     },
     "execution_count": 39,
     "metadata": {},
     "output_type": "execute_result"
    }
   ],
   "source": [
    "D.keys(), D.values()"
   ]
  },
  {
   "cell_type": "code",
   "execution_count": 44,
   "id": "compact-cancellation",
   "metadata": {},
   "outputs": [],
   "source": [
    "D['fruit'].append('cc')"
   ]
  },
  {
   "cell_type": "code",
   "execution_count": 45,
   "id": "fancy-sound",
   "metadata": {},
   "outputs": [
    {
     "data": {
      "text/plain": [
       "{'fruit': ['apple', 'banana', 'cc'],\n",
       " 'veg': 'carrot',\n",
       " 'num': 2,\n",
       " 'add': 'value',\n",
       " 'a': 'b'}"
      ]
     },
     "execution_count": 45,
     "metadata": {},
     "output_type": "execute_result"
    }
   ],
   "source": [
    "## Append is done using update command\n",
    "D.update({'add':'value'})\n",
    "D"
   ]
  },
  {
   "cell_type": "code",
   "execution_count": 46,
   "id": "blank-european",
   "metadata": {},
   "outputs": [],
   "source": [
    "E = {\"a\":'b'}"
   ]
  },
  {
   "cell_type": "code",
   "execution_count": 47,
   "id": "cheap-extension",
   "metadata": {},
   "outputs": [
    {
     "data": {
      "text/plain": [
       "{'fruit': ['apple', 'banana', 'cc'],\n",
       " 'veg': 'carrot',\n",
       " 'num': 2,\n",
       " 'add': 'value',\n",
       " 'a': 'b'}"
      ]
     },
     "execution_count": 47,
     "metadata": {},
     "output_type": "execute_result"
    }
   ],
   "source": [
    "D.update(E)\n",
    "D"
   ]
  },
  {
   "cell_type": "code",
   "execution_count": 52,
   "id": "purple-number",
   "metadata": {},
   "outputs": [],
   "source": [
    "## Tuple\n",
    "g = (9.8,)"
   ]
  },
  {
   "cell_type": "markdown",
   "id": "sized-moral",
   "metadata": {},
   "source": [
    "# Loops"
   ]
  },
  {
   "cell_type": "code",
   "execution_count": null,
   "id": "decimal-vacuum",
   "metadata": {},
   "outputs": [],
   "source": [
    "# for, if, while"
   ]
  },
  {
   "cell_type": "code",
   "execution_count": 54,
   "id": "apparent-truth",
   "metadata": {},
   "outputs": [
    {
     "data": {
      "text/plain": [
       "[1, 2, 3, 4, 5, 10]"
      ]
     },
     "execution_count": 54,
     "metadata": {},
     "output_type": "execute_result"
    }
   ],
   "source": [
    "L"
   ]
  },
  {
   "cell_type": "code",
   "execution_count": 56,
   "id": "simplified-animation",
   "metadata": {},
   "outputs": [
    {
     "data": {
      "text/plain": [
       "([1, 2, 3, 4, 5, 10, 1, 2, 3, 4, 5, 10, 1, 2, 3, 4, 5, 10],\n",
       " array([ 3,  6,  9, 12, 15, 30]))"
      ]
     },
     "execution_count": 56,
     "metadata": {},
     "output_type": "execute_result"
    }
   ],
   "source": [
    "L*3, np.array(L)*3"
   ]
  },
  {
   "cell_type": "code",
   "execution_count": 57,
   "id": "transparent-voice",
   "metadata": {},
   "outputs": [
    {
     "name": "stdout",
     "output_type": "stream",
     "text": [
      "2\n",
      "6\n",
      "10\n",
      "14\n",
      "18\n",
      "38\n"
     ]
    }
   ],
   "source": [
    "# each_element*4 -2 \n",
    "# For loop\n",
    "for items in L:\n",
    "    print (items*4 - 2)"
   ]
  },
  {
   "cell_type": "code",
   "execution_count": 58,
   "id": "placed-obligation",
   "metadata": {},
   "outputs": [],
   "source": [
    "## save\n",
    "M = []\n",
    "for items in L:\n",
    "    M.append(items*4 - 2)"
   ]
  },
  {
   "cell_type": "code",
   "execution_count": 59,
   "id": "authorized-suspension",
   "metadata": {},
   "outputs": [
    {
     "data": {
      "text/plain": [
       "[2, 6, 10, 14, 18, 38]"
      ]
     },
     "execution_count": 59,
     "metadata": {},
     "output_type": "execute_result"
    }
   ],
   "source": [
    "M"
   ]
  },
  {
   "cell_type": "code",
   "execution_count": 61,
   "id": "medical-leisure",
   "metadata": {},
   "outputs": [
    {
     "name": "stdout",
     "output_type": "stream",
     "text": [
      "range(0, 2)\n"
     ]
    }
   ],
   "source": [
    "print(range(2))"
   ]
  },
  {
   "cell_type": "code",
   "execution_count": 69,
   "id": "controversial-cancellation",
   "metadata": {},
   "outputs": [
    {
     "name": "stdout",
     "output_type": "stream",
     "text": [
      "i= 0\n",
      "j= 0\n",
      "j= 3\n",
      "j= 6\n",
      "i= 3\n",
      "j= 0\n",
      "j= 3\n",
      "j= 6\n",
      "i= 6\n",
      "j= 0\n",
      "j= 3\n",
      "j= 6\n"
     ]
    }
   ],
   "source": [
    "# Nested loop\n",
    "for i in range(0,7,3):\n",
    "    print (\"i=\",i)\n",
    "    for j in range(0,7,3):\n",
    "        print (\"j=\",j)"
   ]
  },
  {
   "cell_type": "code",
   "execution_count": 71,
   "id": "alive-engineering",
   "metadata": {},
   "outputs": [
    {
     "name": "stdout",
     "output_type": "stream",
     "text": [
      "0 equals 0\n",
      "0 not equal to 3\n",
      "0 not equal to 6\n",
      "3 not equal to 0\n",
      "3 equals 3\n",
      "3 not equal to 6\n",
      "6 not equal to 0\n",
      "6 not equal to 3\n",
      "6 equals 6\n"
     ]
    }
   ],
   "source": [
    "## If loop\n",
    "#### Print only if i=j\n",
    "for i in range(0,7,3):\n",
    "    for j in range(0,7,3):\n",
    "        if i == j:\n",
    "            print (i, \"equals\", j)\n",
    "        else:\n",
    "            print (i, \"not equal to\", j)\n",
    "            \n",
    "        \n",
    "        #print (\"j=\",j)"
   ]
  },
  {
   "cell_type": "code",
   "execution_count": null,
   "id": "stable-division",
   "metadata": {},
   "outputs": [],
   "source": [
    "## if: else\n",
    "## if, elif, elif,............, else!"
   ]
  },
  {
   "cell_type": "code",
   "execution_count": 72,
   "id": "charitable-reverse",
   "metadata": {},
   "outputs": [
    {
     "data": {
      "text/plain": [
       "[1, 2, 3, 4, 5, 10]"
      ]
     },
     "execution_count": 72,
     "metadata": {},
     "output_type": "execute_result"
    }
   ],
   "source": [
    "L"
   ]
  },
  {
   "cell_type": "code",
   "execution_count": 75,
   "id": "developmental-camcorder",
   "metadata": {},
   "outputs": [
    {
     "name": "stdout",
     "output_type": "stream",
     "text": [
      "C\n",
      "B\n",
      "B\n",
      "B\n",
      "B\n",
      "A\n"
     ]
    }
   ],
   "source": [
    "for i in L:\n",
    "    if i >5:\n",
    "        print (\"A\")\n",
    "    elif i <=5 and i >=2:\n",
    "        print (\"B\")\n",
    "    else:\n",
    "        print (\"C\")"
   ]
  },
  {
   "cell_type": "markdown",
   "id": "automated-belfast",
   "metadata": {},
   "source": [
    "#  Plotting in Python"
   ]
  },
  {
   "cell_type": "code",
   "execution_count": 80,
   "id": "acknowledged-running",
   "metadata": {},
   "outputs": [],
   "source": [
    "x= [1,2,3,4]\n",
    "y = [4,5,6,7]"
   ]
  },
  {
   "cell_type": "code",
   "execution_count": 81,
   "id": "pretty-acquisition",
   "metadata": {},
   "outputs": [],
   "source": [
    "import matplotlib.pyplot as plt"
   ]
  },
  {
   "cell_type": "code",
   "execution_count": 99,
   "id": "biblical-operation",
   "metadata": {},
   "outputs": [
    {
     "data": {
      "image/png": "[encoded data removed]",
      "text/plain": [
       "<Figure size 432x288 with 1 Axes>"
      ]
     },
     "metadata": {
      "needs_background": "light"
     },
     "output_type": "display_data"
    }
   ],
   "source": [
    "plt.plot(x,y,'r*',linestyle = 'dashed', linewidth = 2, markersize = 14)\n",
    "plt.title(\"ABC\", fontsize = 20)\n",
    "plt.xlabel(\"x\")\n",
    "plt.ylabel(\"y\")\n",
    "plt.xticks(fontsize = 15);"
   ]
  },
  {
   "cell_type": "code",
   "execution_count": null,
   "id": "incoming-arcade",
   "metadata": {},
   "outputs": [],
   "source": [
    "# https://matplotlib.org/"
   ]
  },
  {
   "cell_type": "raw",
   "id": "turkish-capitol",
   "metadata": {},
   "source": [
    "HW1:\n",
    "L1=[1,2,3] and L2=[3,4,5]. Use for loop to add L1 and L2. [Hint: Use nested 'for' loop example we did in class].\n",
    "\n",
    "HW2:\n",
    "y=sin(x). Create a loop where x varies from 0 to 720 degree and\n",
    "store value of y into a list. [use 'range' to loop through. Make sure Sin(30)=0.5 :) )\n",
    "[use numpy]\n",
    "\n",
    "HW3:\n",
    "    Create a for loop to go through these angles [10,15,20,25,30,35,40,45,50] to\n",
    "    (i) determine range of  a projectile fired from ground speed = 30m/s.\n",
    "    (ii) Save this as a list [angle,range] for all values of angles.\n",
    "    (iii) Determine maximum height reached. Save its as dictonary {angle:height}. \n",
    "    (iv) Create a plot of angle vs. Range and another plot of angle vs. max height reached.\n",
    "\n",
    "HW4:\n",
    "    Currency=[1,2,5,10,20,50]\n",
    "    #You need to return 14. Cashier = [10->1,2->2]\n",
    "    Create a for loop to return 127.\n",
    " \n",
    "HW5: x=[1,...10], y1=3x**2-log(x), y2=2**x-5x\n",
    "Create a dualaxis plot of this. # You will need to google a little to create this plot.\n",
    "\n",
    "HW6: Radioactive decay\n",
    "N(t) =N(0).exp(-lambda*t) for Uranium. Create a plot of this decay that includes 5 half-lives. Use standard value of lambda and start with one million atoms.\n",
    "    "
   ]
  },
  {
   "cell_type": "code",
   "execution_count": null,
   "id": "guilty-sight",
   "metadata": {},
   "outputs": [],
   "source": []
  },
  {
   "cell_type": "code",
   "execution_count": null,
   "id": "brutal-worthy",
   "metadata": {},
   "outputs": [],
   "source": []
  },
  {
   "cell_type": "code",
   "execution_count": null,
   "id": "rotary-plaza",
   "metadata": {},
   "outputs": [],
   "source": []
  },
  {
   "cell_type": "code",
   "execution_count": null,
   "id": "immune-mirror",
   "metadata": {},
   "outputs": [],
   "source": []
  },
  {
   "cell_type": "code",
   "execution_count": null,
   "id": "passive-offering",
   "metadata": {},
   "outputs": [],
   "source": []
  },
  {
   "cell_type": "code",
   "execution_count": null,
   "id": "worst-excuse",
   "metadata": {},
   "outputs": [],
   "source": []
  },
  {
   "cell_type": "code",
   "execution_count": null,
   "id": "prerequisite-liechtenstein",
   "metadata": {},
   "outputs": [],
   "source": []
  }
 ],
 "metadata": {
  "kernelspec": {
   "display_name": "Python 3",
   "language": "python",
   "name": "python3"
  },
  "language_info": {
   "codemirror_mode": {
    "name": "ipython",
    "version": 3
   },
   "file_extension": ".py",
   "mimetype": "text/x-python",
   "name": "python",
   "nbconvert_exporter": "python",
   "pygments_lexer": "ipython3",
   "version": "3.7.6"
  }
 },
 "nbformat": 4,
 "nbformat_minor": 5
}
