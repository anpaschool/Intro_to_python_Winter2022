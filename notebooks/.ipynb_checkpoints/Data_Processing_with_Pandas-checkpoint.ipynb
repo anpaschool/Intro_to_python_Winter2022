{
 "cells": [
  {
   "cell_type": "markdown",
   "id": "f4e74222",
   "metadata": {},
   "source": [
    "# Data Processing with Pandas \n",
    "In this class, we will learn how pandas is used in data processing/cleaning.\n",
    "\n",
    "## Introduction \n",
    "\n",
    "### What is Pandas? \n",
    "\n",
    "https://pandas.pydata.org/docs/user_guide/index.html\n",
    "\n",
    "* Pandas is an open source python package very popular among Data Science practionioners. \n",
    "* It is widely used for  data for analysis and model training. \n",
    "* If you have not already installed, please uncomment and run the following cell to install packages we are going to use in this class "
   ]
  },
  {
   "cell_type": "code",
   "execution_count": 1,
   "id": "f5dd1d6c",
   "metadata": {},
   "outputs": [],
   "source": [
    "#!pip install pandas\n",
    "#!pip install numpy\n",
    "#!pip install matplotlib"
   ]
  },
  {
   "cell_type": "code",
   "execution_count": 2,
   "id": "14c91561",
   "metadata": {},
   "outputs": [],
   "source": [
    "import pandas as pd\n",
    "import numpy as np\n",
    "import matplotlib.pyplot as plt\n",
    "import matplotlib.pyplot as plt\n",
    "plt.rcParams.update({'font.size': 15})\n",
    "%matplotlib inline"
   ]
  },
  {
   "cell_type": "markdown",
   "id": "ea138d17",
   "metadata": {},
   "source": [
    "## Warm Up\n",
    "You learned about lists and dictionaries in python. Now let's see how we can use those along with pandas\n",
    "\n",
    "## Pandas objects:\n",
    "    \n",
    "## Pandas Series & dataframes "
   ]
  },
  {
   "cell_type": "markdown",
   "id": "8c107cf2",
   "metadata": {},
   "source": [
    "### Pandas Series \n",
    "\n",
    "* pd.Series()\n",
    "* One dimensional arrays with indices. Series are like a column in the excel"
   ]
  },
  {
   "cell_type": "code",
   "execution_count": 3,
   "id": "4245cc97",
   "metadata": {},
   "outputs": [],
   "source": [
    "saarc_countries = [\n",
    "    'Afghanistan', 'Bangaladesh', 'Bhutan', 'India', 'Maldives', 'Nepal',\n",
    "    'Pakistan', 'Srilanka'\n",
    "]\n",
    "saarc_gdp_per_capita = {\n",
    "    'Afghanistan': 517,\n",
    "    'Bangaladesh': 2503,\n",
    "    'Bhutan': 3245,\n",
    "    'India': 2290,\n",
    "    'Maldives': 8995,\n",
    "    'Nepal': 1223,\n",
    "    'Pakistan': 1564,\n",
    "    'Sri Lanka': 4016\n",
    "}\n",
    "pd_series_from_list = pd.Series(saarc_countries)\n",
    "pd_series_from_dict = pd.Series(saarc_gdp_per_capita)"
   ]
  },
  {
   "cell_type": "code",
   "execution_count": 4,
   "id": "d7e4d183",
   "metadata": {},
   "outputs": [
    {
     "data": {
      "text/plain": [
       "0    Afghanistan\n",
       "1    Bangaladesh\n",
       "2         Bhutan\n",
       "3          India\n",
       "4       Maldives\n",
       "5          Nepal\n",
       "6       Pakistan\n",
       "7       Srilanka\n",
       "dtype: object"
      ]
     },
     "execution_count": 4,
     "metadata": {},
     "output_type": "execute_result"
    }
   ],
   "source": [
    "pd_series_from_list"
   ]
  },
  {
   "cell_type": "code",
   "execution_count": 5,
   "id": "9613ca76",
   "metadata": {},
   "outputs": [
    {
     "data": {
      "text/plain": [
       "Afghanistan     517\n",
       "Bangaladesh    2503\n",
       "Bhutan         3245\n",
       "India          2290\n",
       "Maldives       8995\n",
       "Nepal          1223\n",
       "Pakistan       1564\n",
       "Sri Lanka      4016\n",
       "dtype: int64"
      ]
     },
     "execution_count": 5,
     "metadata": {},
     "output_type": "execute_result"
    }
   ],
   "source": [
    "pd_series_from_dict"
   ]
  },
  {
   "cell_type": "markdown",
   "id": "8a8111ac",
   "metadata": {},
   "source": [
    "### Slicing the Series\n",
    "\n",
    "* Syntax is : Series[start:end:step]"
   ]
  },
  {
   "cell_type": "code",
   "execution_count": 6,
   "id": "5915f053",
   "metadata": {},
   "outputs": [
    {
     "data": {
      "text/plain": [
       "2      Bhutan\n",
       "4    Maldives\n",
       "dtype: object"
      ]
     },
     "execution_count": 6,
     "metadata": {},
     "output_type": "execute_result"
    }
   ],
   "source": [
    "pd_series_from_list[2:5:2]"
   ]
  },
  {
   "cell_type": "code",
   "execution_count": 7,
   "id": "66cac203",
   "metadata": {},
   "outputs": [
    {
     "data": {
      "text/plain": [
       "Afghanistan     517\n",
       "Bangaladesh    2503\n",
       "dtype: int64"
      ]
     },
     "execution_count": 7,
     "metadata": {},
     "output_type": "execute_result"
    }
   ],
   "source": [
    "pd_series_from_dict[:2]"
   ]
  },
  {
   "cell_type": "markdown",
   "id": "44c331e1",
   "metadata": {},
   "source": [
    "Series are cool but we want more! Our data is more complex. \n",
    "\n",
    "## DataFrames\n",
    "* Primary pandas data structure \n",
    "* Two-dimensional: can hold multiple pandas series (columns)\n",
    "series[start:end:step]"
   ]
  },
  {
   "cell_type": "code",
   "execution_count": 8,
   "id": "c07cc801",
   "metadata": {},
   "outputs": [
    {
     "data": {
      "text/plain": [
       "{'Afghanistan': 517,\n",
       " 'Bangaladesh': 2503,\n",
       " 'Bhutan': 3245,\n",
       " 'India': 2290,\n",
       " 'Maldives': 8995,\n",
       " 'Nepal': 1223,\n",
       " 'Pakistan': 1564,\n",
       " 'Sri Lanka': 4016}"
      ]
     },
     "execution_count": 8,
     "metadata": {},
     "output_type": "execute_result"
    }
   ],
   "source": [
    "saarc_gdp_per_capita"
   ]
  },
  {
   "cell_type": "code",
   "execution_count": 9,
   "id": "f582c90c",
   "metadata": {},
   "outputs": [],
   "source": [
    "df_test = pd.DataFrame.from_dict(saarc_gdp_per_capita,\n",
    "                            orient='index').reset_index()"
   ]
  },
  {
   "cell_type": "code",
   "execution_count": 10,
   "id": "34757fff",
   "metadata": {},
   "outputs": [],
   "source": [
    "df_test.columns = ['country', 'gdp_per_capita']"
   ]
  },
  {
   "cell_type": "code",
   "execution_count": 11,
   "id": "e700f68a",
   "metadata": {},
   "outputs": [
    {
     "data": {
      "text/html": [
       "<div>\n",
       "<style scoped>\n",
       "    .dataframe tbody tr th:only-of-type {\n",
       "        vertical-align: middle;\n",
       "    }\n",
       "\n",
       "    .dataframe tbody tr th {\n",
       "        vertical-align: top;\n",
       "    }\n",
       "\n",
       "    .dataframe thead th {\n",
       "        text-align: right;\n",
       "    }\n",
       "</style>\n",
       "<table border=\"1\" class=\"dataframe\">\n",
       "  <thead>\n",
       "    <tr style=\"text-align: right;\">\n",
       "      <th></th>\n",
       "      <th>country</th>\n",
       "      <th>gdp_per_capita</th>\n",
       "    </tr>\n",
       "  </thead>\n",
       "  <tbody>\n",
       "    <tr>\n",
       "      <th>0</th>\n",
       "      <td>Afghanistan</td>\n",
       "      <td>517</td>\n",
       "    </tr>\n",
       "    <tr>\n",
       "      <th>1</th>\n",
       "      <td>Bangaladesh</td>\n",
       "      <td>2503</td>\n",
       "    </tr>\n",
       "    <tr>\n",
       "      <th>2</th>\n",
       "      <td>Bhutan</td>\n",
       "      <td>3245</td>\n",
       "    </tr>\n",
       "    <tr>\n",
       "      <th>3</th>\n",
       "      <td>India</td>\n",
       "      <td>2290</td>\n",
       "    </tr>\n",
       "    <tr>\n",
       "      <th>4</th>\n",
       "      <td>Maldives</td>\n",
       "      <td>8995</td>\n",
       "    </tr>\n",
       "    <tr>\n",
       "      <th>5</th>\n",
       "      <td>Nepal</td>\n",
       "      <td>1223</td>\n",
       "    </tr>\n",
       "    <tr>\n",
       "      <th>6</th>\n",
       "      <td>Pakistan</td>\n",
       "      <td>1564</td>\n",
       "    </tr>\n",
       "    <tr>\n",
       "      <th>7</th>\n",
       "      <td>Sri Lanka</td>\n",
       "      <td>4016</td>\n",
       "    </tr>\n",
       "  </tbody>\n",
       "</table>\n",
       "</div>"
      ],
      "text/plain": [
       "       country  gdp_per_capita\n",
       "0  Afghanistan             517\n",
       "1  Bangaladesh            2503\n",
       "2       Bhutan            3245\n",
       "3        India            2290\n",
       "4     Maldives            8995\n",
       "5        Nepal            1223\n",
       "6     Pakistan            1564\n",
       "7    Sri Lanka            4016"
      ]
     },
     "execution_count": 11,
     "metadata": {},
     "output_type": "execute_result"
    }
   ],
   "source": [
    "df_test"
   ]
  },
  {
   "cell_type": "code",
   "execution_count": 12,
   "id": "f46e38e9",
   "metadata": {},
   "outputs": [
    {
     "name": "stdout",
     "output_type": "stream",
     "text": [
      "<class 'pandas.core.frame.DataFrame'>\n",
      "RangeIndex: 8 entries, 0 to 7\n",
      "Data columns (total 2 columns):\n",
      " #   Column          Non-Null Count  Dtype \n",
      "---  ------          --------------  ----- \n",
      " 0   country         8 non-null      object\n",
      " 1   gdp_per_capita  8 non-null      int64 \n",
      "dtypes: int64(1), object(1)\n",
      "memory usage: 256.0+ bytes\n"
     ]
    }
   ],
   "source": [
    "df_test.info()"
   ]
  },
  {
   "cell_type": "code",
   "execution_count": 13,
   "id": "60ea78cc",
   "metadata": {},
   "outputs": [
    {
     "data": {
      "text/html": [
       "<div>\n",
       "<style scoped>\n",
       "    .dataframe tbody tr th:only-of-type {\n",
       "        vertical-align: middle;\n",
       "    }\n",
       "\n",
       "    .dataframe tbody tr th {\n",
       "        vertical-align: top;\n",
       "    }\n",
       "\n",
       "    .dataframe thead th {\n",
       "        text-align: right;\n",
       "    }\n",
       "</style>\n",
       "<table border=\"1\" class=\"dataframe\">\n",
       "  <thead>\n",
       "    <tr style=\"text-align: right;\">\n",
       "      <th></th>\n",
       "      <th>gdp_per_capita</th>\n",
       "    </tr>\n",
       "  </thead>\n",
       "  <tbody>\n",
       "    <tr>\n",
       "      <th>count</th>\n",
       "      <td>8.000000</td>\n",
       "    </tr>\n",
       "    <tr>\n",
       "      <th>mean</th>\n",
       "      <td>3044.125000</td>\n",
       "    </tr>\n",
       "    <tr>\n",
       "      <th>std</th>\n",
       "      <td>2649.877433</td>\n",
       "    </tr>\n",
       "    <tr>\n",
       "      <th>min</th>\n",
       "      <td>517.000000</td>\n",
       "    </tr>\n",
       "    <tr>\n",
       "      <th>25%</th>\n",
       "      <td>1478.750000</td>\n",
       "    </tr>\n",
       "    <tr>\n",
       "      <th>50%</th>\n",
       "      <td>2396.500000</td>\n",
       "    </tr>\n",
       "    <tr>\n",
       "      <th>75%</th>\n",
       "      <td>3437.750000</td>\n",
       "    </tr>\n",
       "    <tr>\n",
       "      <th>max</th>\n",
       "      <td>8995.000000</td>\n",
       "    </tr>\n",
       "  </tbody>\n",
       "</table>\n",
       "</div>"
      ],
      "text/plain": [
       "       gdp_per_capita\n",
       "count        8.000000\n",
       "mean      3044.125000\n",
       "std       2649.877433\n",
       "min        517.000000\n",
       "25%       1478.750000\n",
       "50%       2396.500000\n",
       "75%       3437.750000\n",
       "max       8995.000000"
      ]
     },
     "execution_count": 13,
     "metadata": {},
     "output_type": "execute_result"
    }
   ],
   "source": [
    "df_test.describe()"
   ]
  },
  {
   "cell_type": "code",
   "execution_count": 14,
   "id": "62eba0de",
   "metadata": {},
   "outputs": [
    {
     "data": {
      "text/html": [
       "<div>\n",
       "<style scoped>\n",
       "    .dataframe tbody tr th:only-of-type {\n",
       "        vertical-align: middle;\n",
       "    }\n",
       "\n",
       "    .dataframe tbody tr th {\n",
       "        vertical-align: top;\n",
       "    }\n",
       "\n",
       "    .dataframe thead th {\n",
       "        text-align: right;\n",
       "    }\n",
       "</style>\n",
       "<table border=\"1\" class=\"dataframe\">\n",
       "  <thead>\n",
       "    <tr style=\"text-align: right;\">\n",
       "      <th></th>\n",
       "      <th>country</th>\n",
       "    </tr>\n",
       "  </thead>\n",
       "  <tbody>\n",
       "    <tr>\n",
       "      <th>count</th>\n",
       "      <td>8</td>\n",
       "    </tr>\n",
       "    <tr>\n",
       "      <th>unique</th>\n",
       "      <td>8</td>\n",
       "    </tr>\n",
       "    <tr>\n",
       "      <th>top</th>\n",
       "      <td>Afghanistan</td>\n",
       "    </tr>\n",
       "    <tr>\n",
       "      <th>freq</th>\n",
       "      <td>1</td>\n",
       "    </tr>\n",
       "  </tbody>\n",
       "</table>\n",
       "</div>"
      ],
      "text/plain": [
       "            country\n",
       "count             8\n",
       "unique            8\n",
       "top     Afghanistan\n",
       "freq              1"
      ]
     },
     "execution_count": 14,
     "metadata": {},
     "output_type": "execute_result"
    }
   ],
   "source": [
    "df_test.describe(include=['object'])"
   ]
  },
  {
   "cell_type": "code",
   "execution_count": 15,
   "id": "bae1425e",
   "metadata": {},
   "outputs": [
    {
     "data": {
      "text/html": [
       "<div>\n",
       "<style scoped>\n",
       "    .dataframe tbody tr th:only-of-type {\n",
       "        vertical-align: middle;\n",
       "    }\n",
       "\n",
       "    .dataframe tbody tr th {\n",
       "        vertical-align: top;\n",
       "    }\n",
       "\n",
       "    .dataframe thead th {\n",
       "        text-align: right;\n",
       "    }\n",
       "</style>\n",
       "<table border=\"1\" class=\"dataframe\">\n",
       "  <thead>\n",
       "    <tr style=\"text-align: right;\">\n",
       "      <th></th>\n",
       "      <th>country</th>\n",
       "      <th>gdp_per_capita</th>\n",
       "    </tr>\n",
       "  </thead>\n",
       "  <tbody>\n",
       "    <tr>\n",
       "      <th>0</th>\n",
       "      <td>Afghanistan</td>\n",
       "      <td>517</td>\n",
       "    </tr>\n",
       "    <tr>\n",
       "      <th>1</th>\n",
       "      <td>Bangaladesh</td>\n",
       "      <td>2503</td>\n",
       "    </tr>\n",
       "    <tr>\n",
       "      <th>2</th>\n",
       "      <td>Bhutan</td>\n",
       "      <td>3245</td>\n",
       "    </tr>\n",
       "    <tr>\n",
       "      <th>3</th>\n",
       "      <td>India</td>\n",
       "      <td>2290</td>\n",
       "    </tr>\n",
       "    <tr>\n",
       "      <th>4</th>\n",
       "      <td>Maldives</td>\n",
       "      <td>8995</td>\n",
       "    </tr>\n",
       "  </tbody>\n",
       "</table>\n",
       "</div>"
      ],
      "text/plain": [
       "       country  gdp_per_capita\n",
       "0  Afghanistan             517\n",
       "1  Bangaladesh            2503\n",
       "2       Bhutan            3245\n",
       "3        India            2290\n",
       "4     Maldives            8995"
      ]
     },
     "execution_count": 15,
     "metadata": {},
     "output_type": "execute_result"
    }
   ],
   "source": [
    "df_test.head()"
   ]
  },
  {
   "cell_type": "code",
   "execution_count": 16,
   "id": "37eacd50",
   "metadata": {},
   "outputs": [
    {
     "data": {
      "text/html": [
       "<div>\n",
       "<style scoped>\n",
       "    .dataframe tbody tr th:only-of-type {\n",
       "        vertical-align: middle;\n",
       "    }\n",
       "\n",
       "    .dataframe tbody tr th {\n",
       "        vertical-align: top;\n",
       "    }\n",
       "\n",
       "    .dataframe thead th {\n",
       "        text-align: right;\n",
       "    }\n",
       "</style>\n",
       "<table border=\"1\" class=\"dataframe\">\n",
       "  <thead>\n",
       "    <tr style=\"text-align: right;\">\n",
       "      <th></th>\n",
       "      <th>country</th>\n",
       "      <th>gdp_per_capita</th>\n",
       "    </tr>\n",
       "  </thead>\n",
       "  <tbody>\n",
       "    <tr>\n",
       "      <th>3</th>\n",
       "      <td>India</td>\n",
       "      <td>2290</td>\n",
       "    </tr>\n",
       "    <tr>\n",
       "      <th>4</th>\n",
       "      <td>Maldives</td>\n",
       "      <td>8995</td>\n",
       "    </tr>\n",
       "    <tr>\n",
       "      <th>5</th>\n",
       "      <td>Nepal</td>\n",
       "      <td>1223</td>\n",
       "    </tr>\n",
       "    <tr>\n",
       "      <th>6</th>\n",
       "      <td>Pakistan</td>\n",
       "      <td>1564</td>\n",
       "    </tr>\n",
       "    <tr>\n",
       "      <th>7</th>\n",
       "      <td>Sri Lanka</td>\n",
       "      <td>4016</td>\n",
       "    </tr>\n",
       "  </tbody>\n",
       "</table>\n",
       "</div>"
      ],
      "text/plain": [
       "     country  gdp_per_capita\n",
       "3      India            2290\n",
       "4   Maldives            8995\n",
       "5      Nepal            1223\n",
       "6   Pakistan            1564\n",
       "7  Sri Lanka            4016"
      ]
     },
     "execution_count": 16,
     "metadata": {},
     "output_type": "execute_result"
    }
   ],
   "source": [
    "df_test.tail()"
   ]
  },
  {
   "cell_type": "markdown",
   "id": "e8dee993",
   "metadata": {},
   "source": [
    "## Let's make some fake data "
   ]
  },
  {
   "cell_type": "code",
   "execution_count": 70,
   "id": "98c9df62",
   "metadata": {},
   "outputs": [],
   "source": [
    "N = 200\n",
    "np.random.seed(101)\n",
    "student_ids = [f\"STU{i+1:03d}\" for i in range(N)]\n",
    "scores_math = np.random.normal(loc=60, scale=15, size=N)\n",
    "scores_physics = np.random.normal(loc=65, scale=15, size=N)\n",
    "scores_chemistry = np.random.normal(loc=50, scale=15, size=N)\n",
    "scores_biology = np.random.normal(loc=70, scale=15, size=N)\n",
    "scores_social = np.random.normal(loc=65, scale=15, size=N)\n",
    "scores_english = np.random.normal(loc=55, scale=15, size=N)\n",
    "\n",
    "df_scores_science = pd.DataFrame({\n",
    "    \"student_id\": student_ids,\n",
    "    \"math\": scores_math,\n",
    "    \"physics\": scores_physics,\n",
    "    \"chemistry\": scores_chemistry,\n",
    "    \"biology\": scores_biology\n",
    "})\n",
    "\n",
    "df_scores_arts = pd.DataFrame({\n",
    "    \"student_id\": student_ids,\n",
    "    \"english\": scores_english,\n",
    "    \"social_studies\": scores_social})"
   ]
  },
  {
   "cell_type": "code",
   "execution_count": 71,
   "id": "55358d20",
   "metadata": {},
   "outputs": [
    {
     "data": {
      "text/html": [
       "<div>\n",
       "<style scoped>\n",
       "    .dataframe tbody tr th:only-of-type {\n",
       "        vertical-align: middle;\n",
       "    }\n",
       "\n",
       "    .dataframe tbody tr th {\n",
       "        vertical-align: top;\n",
       "    }\n",
       "\n",
       "    .dataframe thead th {\n",
       "        text-align: right;\n",
       "    }\n",
       "</style>\n",
       "<table border=\"1\" class=\"dataframe\">\n",
       "  <thead>\n",
       "    <tr style=\"text-align: right;\">\n",
       "      <th></th>\n",
       "      <th>student_id</th>\n",
       "      <th>math</th>\n",
       "      <th>physics</th>\n",
       "      <th>chemistry</th>\n",
       "      <th>biology</th>\n",
       "    </tr>\n",
       "  </thead>\n",
       "  <tbody>\n",
       "    <tr>\n",
       "      <th>0</th>\n",
       "      <td>STU001</td>\n",
       "      <td>100.602748</td>\n",
       "      <td>60.807347</td>\n",
       "      <td>81.276738</td>\n",
       "      <td>52.584204</td>\n",
       "    </tr>\n",
       "    <tr>\n",
       "      <th>1</th>\n",
       "      <td>STU002</td>\n",
       "      <td>69.421991</td>\n",
       "      <td>80.940656</td>\n",
       "      <td>45.622675</td>\n",
       "      <td>75.089139</td>\n",
       "    </tr>\n",
       "    <tr>\n",
       "      <th>2</th>\n",
       "      <td>STU003</td>\n",
       "      <td>73.619542</td>\n",
       "      <td>91.280216</td>\n",
       "      <td>67.869572</td>\n",
       "      <td>56.544092</td>\n",
       "    </tr>\n",
       "    <tr>\n",
       "      <th>3</th>\n",
       "      <td>STU004</td>\n",
       "      <td>67.557386</td>\n",
       "      <td>75.433201</td>\n",
       "      <td>55.109512</td>\n",
       "      <td>76.491621</td>\n",
       "    </tr>\n",
       "    <tr>\n",
       "      <th>4</th>\n",
       "      <td>STU005</td>\n",
       "      <td>69.766769</td>\n",
       "      <td>67.304913</td>\n",
       "      <td>31.489137</td>\n",
       "      <td>65.793508</td>\n",
       "    </tr>\n",
       "  </tbody>\n",
       "</table>\n",
       "</div>"
      ],
      "text/plain": [
       "  student_id        math    physics  chemistry    biology\n",
       "0     STU001  100.602748  60.807347  81.276738  52.584204\n",
       "1     STU002   69.421991  80.940656  45.622675  75.089139\n",
       "2     STU003   73.619542  91.280216  67.869572  56.544092\n",
       "3     STU004   67.557386  75.433201  55.109512  76.491621\n",
       "4     STU005   69.766769  67.304913  31.489137  65.793508"
      ]
     },
     "execution_count": 71,
     "metadata": {},
     "output_type": "execute_result"
    }
   ],
   "source": [
    "df_scores_science.head()"
   ]
  },
  {
   "cell_type": "code",
   "execution_count": 72,
   "id": "75b3ca1e",
   "metadata": {},
   "outputs": [
    {
     "data": {
      "text/html": [
       "<div>\n",
       "<style scoped>\n",
       "    .dataframe tbody tr th:only-of-type {\n",
       "        vertical-align: middle;\n",
       "    }\n",
       "\n",
       "    .dataframe tbody tr th {\n",
       "        vertical-align: top;\n",
       "    }\n",
       "\n",
       "    .dataframe thead th {\n",
       "        text-align: right;\n",
       "    }\n",
       "</style>\n",
       "<table border=\"1\" class=\"dataframe\">\n",
       "  <thead>\n",
       "    <tr style=\"text-align: right;\">\n",
       "      <th></th>\n",
       "      <th>student_id</th>\n",
       "      <th>english</th>\n",
       "      <th>social_studies</th>\n",
       "    </tr>\n",
       "  </thead>\n",
       "  <tbody>\n",
       "    <tr>\n",
       "      <th>0</th>\n",
       "      <td>STU001</td>\n",
       "      <td>64.774407</td>\n",
       "      <td>61.538321</td>\n",
       "    </tr>\n",
       "    <tr>\n",
       "      <th>1</th>\n",
       "      <td>STU002</td>\n",
       "      <td>53.878280</td>\n",
       "      <td>44.518799</td>\n",
       "    </tr>\n",
       "    <tr>\n",
       "      <th>2</th>\n",
       "      <td>STU003</td>\n",
       "      <td>49.231596</td>\n",
       "      <td>75.226367</td>\n",
       "    </tr>\n",
       "    <tr>\n",
       "      <th>3</th>\n",
       "      <td>STU004</td>\n",
       "      <td>61.563825</td>\n",
       "      <td>58.527499</td>\n",
       "    </tr>\n",
       "    <tr>\n",
       "      <th>4</th>\n",
       "      <td>STU005</td>\n",
       "      <td>47.364151</td>\n",
       "      <td>68.519956</td>\n",
       "    </tr>\n",
       "  </tbody>\n",
       "</table>\n",
       "</div>"
      ],
      "text/plain": [
       "  student_id    english  social_studies\n",
       "0     STU001  64.774407       61.538321\n",
       "1     STU002  53.878280       44.518799\n",
       "2     STU003  49.231596       75.226367\n",
       "3     STU004  61.563825       58.527499\n",
       "4     STU005  47.364151       68.519956"
      ]
     },
     "execution_count": 72,
     "metadata": {},
     "output_type": "execute_result"
    }
   ],
   "source": [
    "df_scores_arts.head()"
   ]
  },
  {
   "cell_type": "markdown",
   "id": "0cf96e73",
   "metadata": {},
   "source": [
    "## Cancatenating/Merging Data Frames "
   ]
  },
  {
   "cell_type": "markdown",
   "id": "dca77867",
   "metadata": {},
   "source": [
    "We created two data frames df_scores_science and df_scores_arts. let's merge those together"
   ]
  },
  {
   "cell_type": "code",
   "execution_count": 80,
   "id": "e915a55b",
   "metadata": {},
   "outputs": [],
   "source": [
    "## Merging two data frames with common merge keys \n",
    "df_scores = pd.merge(df_scores_science,\n",
    "                     df_scores_arts,\n",
    "                     on='student_id',\n",
    "                     how='inner')"
   ]
  },
  {
   "cell_type": "code",
   "execution_count": 74,
   "id": "6b127f8c",
   "metadata": {},
   "outputs": [
    {
     "data": {
      "text/html": [
       "<div>\n",
       "<style scoped>\n",
       "    .dataframe tbody tr th:only-of-type {\n",
       "        vertical-align: middle;\n",
       "    }\n",
       "\n",
       "    .dataframe tbody tr th {\n",
       "        vertical-align: top;\n",
       "    }\n",
       "\n",
       "    .dataframe thead th {\n",
       "        text-align: right;\n",
       "    }\n",
       "</style>\n",
       "<table border=\"1\" class=\"dataframe\">\n",
       "  <thead>\n",
       "    <tr style=\"text-align: right;\">\n",
       "      <th></th>\n",
       "      <th>student_id</th>\n",
       "      <th>math</th>\n",
       "      <th>physics</th>\n",
       "      <th>chemistry</th>\n",
       "      <th>biology</th>\n",
       "      <th>english</th>\n",
       "      <th>social_studies</th>\n",
       "    </tr>\n",
       "  </thead>\n",
       "  <tbody>\n",
       "    <tr>\n",
       "      <th>0</th>\n",
       "      <td>STU001</td>\n",
       "      <td>100.602748</td>\n",
       "      <td>60.807347</td>\n",
       "      <td>81.276738</td>\n",
       "      <td>52.584204</td>\n",
       "      <td>64.774407</td>\n",
       "      <td>61.538321</td>\n",
       "    </tr>\n",
       "    <tr>\n",
       "      <th>1</th>\n",
       "      <td>STU002</td>\n",
       "      <td>69.421991</td>\n",
       "      <td>80.940656</td>\n",
       "      <td>45.622675</td>\n",
       "      <td>75.089139</td>\n",
       "      <td>53.878280</td>\n",
       "      <td>44.518799</td>\n",
       "    </tr>\n",
       "    <tr>\n",
       "      <th>2</th>\n",
       "      <td>STU003</td>\n",
       "      <td>73.619542</td>\n",
       "      <td>91.280216</td>\n",
       "      <td>67.869572</td>\n",
       "      <td>56.544092</td>\n",
       "      <td>49.231596</td>\n",
       "      <td>75.226367</td>\n",
       "    </tr>\n",
       "    <tr>\n",
       "      <th>3</th>\n",
       "      <td>STU004</td>\n",
       "      <td>67.557386</td>\n",
       "      <td>75.433201</td>\n",
       "      <td>55.109512</td>\n",
       "      <td>76.491621</td>\n",
       "      <td>61.563825</td>\n",
       "      <td>58.527499</td>\n",
       "    </tr>\n",
       "    <tr>\n",
       "      <th>4</th>\n",
       "      <td>STU005</td>\n",
       "      <td>69.766769</td>\n",
       "      <td>67.304913</td>\n",
       "      <td>31.489137</td>\n",
       "      <td>65.793508</td>\n",
       "      <td>47.364151</td>\n",
       "      <td>68.519956</td>\n",
       "    </tr>\n",
       "  </tbody>\n",
       "</table>\n",
       "</div>"
      ],
      "text/plain": [
       "  student_id        math    physics  chemistry    biology    english  \\\n",
       "0     STU001  100.602748  60.807347  81.276738  52.584204  64.774407   \n",
       "1     STU002   69.421991  80.940656  45.622675  75.089139  53.878280   \n",
       "2     STU003   73.619542  91.280216  67.869572  56.544092  49.231596   \n",
       "3     STU004   67.557386  75.433201  55.109512  76.491621  61.563825   \n",
       "4     STU005   69.766769  67.304913  31.489137  65.793508  47.364151   \n",
       "\n",
       "   social_studies  \n",
       "0       61.538321  \n",
       "1       44.518799  \n",
       "2       75.226367  \n",
       "3       58.527499  \n",
       "4       68.519956  "
      ]
     },
     "execution_count": 74,
     "metadata": {},
     "output_type": "execute_result"
    }
   ],
   "source": [
    "df_scores.head()"
   ]
  },
  {
   "cell_type": "markdown",
   "id": "00610f2f",
   "metadata": {},
   "source": [
    "Can also concatenate dataframes (append one df on top of the other). Refer to this Pandas documenation\n",
    "https://pandas.pydata.org/docs/user_guide/merging.html"
   ]
  },
  {
   "cell_type": "code",
   "execution_count": 90,
   "id": "2fadc2e1",
   "metadata": {},
   "outputs": [
    {
     "name": "stdout",
     "output_type": "stream",
     "text": [
      "<class 'pandas.core.frame.DataFrame'>\n",
      "Int64Index: 200 entries, 0 to 199\n",
      "Data columns (total 7 columns):\n",
      " #   Column          Non-Null Count  Dtype  \n",
      "---  ------          --------------  -----  \n",
      " 0   student_id      200 non-null    object \n",
      " 1   math            200 non-null    int64  \n",
      " 2   physics         200 non-null    int64  \n",
      " 3   chemistry       200 non-null    float64\n",
      " 4   biology         200 non-null    float64\n",
      " 5   english         200 non-null    float64\n",
      " 6   social_studies  200 non-null    float64\n",
      "dtypes: float64(4), int64(2), object(1)\n",
      "memory usage: 20.6+ KB\n"
     ]
    }
   ],
   "source": [
    "df_scores.info()"
   ]
  },
  {
   "cell_type": "code",
   "execution_count": 91,
   "id": "7dc5d44c",
   "metadata": {},
   "outputs": [
    {
     "data": {
      "text/plain": [
       "student_id         object\n",
       "math                int64\n",
       "physics             int64\n",
       "chemistry         float64\n",
       "biology           float64\n",
       "english           float64\n",
       "social_studies    float64\n",
       "dtype: object"
      ]
     },
     "execution_count": 91,
     "metadata": {},
     "output_type": "execute_result"
    }
   ],
   "source": [
    "df_scores.dtypes"
   ]
  },
  {
   "cell_type": "markdown",
   "id": "a9ff2219",
   "metadata": {},
   "source": [
    "Let's say we want all of the scores to be a integer. We can set them to be a integer with following: "
   ]
  },
  {
   "cell_type": "code",
   "execution_count": 92,
   "id": "81091303",
   "metadata": {},
   "outputs": [],
   "source": [
    "df_scores['math'] = df_scores['math'].astype(int)\n",
    "df_scores['physics'] = df_scores['physics'].astype(int)"
   ]
  },
  {
   "cell_type": "code",
   "execution_count": 93,
   "id": "9ebd17ab",
   "metadata": {},
   "outputs": [
    {
     "data": {
      "text/html": [
       "<div>\n",
       "<style scoped>\n",
       "    .dataframe tbody tr th:only-of-type {\n",
       "        vertical-align: middle;\n",
       "    }\n",
       "\n",
       "    .dataframe tbody tr th {\n",
       "        vertical-align: top;\n",
       "    }\n",
       "\n",
       "    .dataframe thead th {\n",
       "        text-align: right;\n",
       "    }\n",
       "</style>\n",
       "<table border=\"1\" class=\"dataframe\">\n",
       "  <thead>\n",
       "    <tr style=\"text-align: right;\">\n",
       "      <th></th>\n",
       "      <th>math</th>\n",
       "      <th>physics</th>\n",
       "      <th>chemistry</th>\n",
       "      <th>biology</th>\n",
       "      <th>english</th>\n",
       "      <th>social_studies</th>\n",
       "    </tr>\n",
       "  </thead>\n",
       "  <tbody>\n",
       "    <tr>\n",
       "      <th>count</th>\n",
       "      <td>200.000000</td>\n",
       "      <td>200.00000</td>\n",
       "      <td>200.000000</td>\n",
       "      <td>200.000000</td>\n",
       "      <td>200.000000</td>\n",
       "      <td>200.000000</td>\n",
       "    </tr>\n",
       "    <tr>\n",
       "      <th>mean</th>\n",
       "      <td>60.220000</td>\n",
       "      <td>64.82500</td>\n",
       "      <td>50.080961</td>\n",
       "      <td>69.724234</td>\n",
       "      <td>54.835065</td>\n",
       "      <td>66.113743</td>\n",
       "    </tr>\n",
       "    <tr>\n",
       "      <th>std</th>\n",
       "      <td>15.635021</td>\n",
       "      <td>15.85786</td>\n",
       "      <td>16.413752</td>\n",
       "      <td>15.689472</td>\n",
       "      <td>14.337995</td>\n",
       "      <td>15.547012</td>\n",
       "    </tr>\n",
       "    <tr>\n",
       "      <th>min</th>\n",
       "      <td>18.000000</td>\n",
       "      <td>23.00000</td>\n",
       "      <td>8.240501</td>\n",
       "      <td>33.245891</td>\n",
       "      <td>19.896893</td>\n",
       "      <td>18.542921</td>\n",
       "    </tr>\n",
       "    <tr>\n",
       "      <th>25%</th>\n",
       "      <td>48.000000</td>\n",
       "      <td>53.00000</td>\n",
       "      <td>39.420974</td>\n",
       "      <td>60.600749</td>\n",
       "      <td>45.370198</td>\n",
       "      <td>55.901648</td>\n",
       "    </tr>\n",
       "    <tr>\n",
       "      <th>50%</th>\n",
       "      <td>62.000000</td>\n",
       "      <td>65.50000</td>\n",
       "      <td>49.267801</td>\n",
       "      <td>67.974362</td>\n",
       "      <td>53.950890</td>\n",
       "      <td>67.298549</td>\n",
       "    </tr>\n",
       "    <tr>\n",
       "      <th>75%</th>\n",
       "      <td>70.000000</td>\n",
       "      <td>77.00000</td>\n",
       "      <td>62.297216</td>\n",
       "      <td>80.060160</td>\n",
       "      <td>66.676246</td>\n",
       "      <td>75.864137</td>\n",
       "    </tr>\n",
       "    <tr>\n",
       "      <th>max</th>\n",
       "      <td>100.000000</td>\n",
       "      <td>106.00000</td>\n",
       "      <td>93.323716</td>\n",
       "      <td>115.561698</td>\n",
       "      <td>86.103865</td>\n",
       "      <td>106.666711</td>\n",
       "    </tr>\n",
       "  </tbody>\n",
       "</table>\n",
       "</div>"
      ],
      "text/plain": [
       "             math    physics   chemistry     biology     english  \\\n",
       "count  200.000000  200.00000  200.000000  200.000000  200.000000   \n",
       "mean    60.220000   64.82500   50.080961   69.724234   54.835065   \n",
       "std     15.635021   15.85786   16.413752   15.689472   14.337995   \n",
       "min     18.000000   23.00000    8.240501   33.245891   19.896893   \n",
       "25%     48.000000   53.00000   39.420974   60.600749   45.370198   \n",
       "50%     62.000000   65.50000   49.267801   67.974362   53.950890   \n",
       "75%     70.000000   77.00000   62.297216   80.060160   66.676246   \n",
       "max    100.000000  106.00000   93.323716  115.561698   86.103865   \n",
       "\n",
       "       social_studies  \n",
       "count      200.000000  \n",
       "mean        66.113743  \n",
       "std         15.547012  \n",
       "min         18.542921  \n",
       "25%         55.901648  \n",
       "50%         67.298549  \n",
       "75%         75.864137  \n",
       "max        106.666711  "
      ]
     },
     "execution_count": 93,
     "metadata": {},
     "output_type": "execute_result"
    }
   ],
   "source": [
    "df_scores.describe()"
   ]
  },
  {
   "cell_type": "code",
   "execution_count": 94,
   "id": "ec0d9523",
   "metadata": {},
   "outputs": [
    {
     "data": {
      "text/plain": [
       "student_id         object\n",
       "math                int64\n",
       "physics             int64\n",
       "chemistry         float64\n",
       "biology           float64\n",
       "english           float64\n",
       "social_studies    float64\n",
       "dtype: object"
      ]
     },
     "execution_count": 94,
     "metadata": {},
     "output_type": "execute_result"
    }
   ],
   "source": [
    "df_scores.dtypes"
   ]
  },
  {
   "cell_type": "markdown",
   "id": "b5eb9d1d",
   "metadata": {},
   "source": [
    "## Accessing columns/rows of data \n",
    "* Using loc:  Allows indexing and slicing that always references the explicit index\n",
    "* Using iloc : Allows indexing and slicing that always references the implicit Python-style index:\n",
    "* Columns can also be directly accessed using column name \n",
    "\n",
    "Let's look at some of the examples:\n"
   ]
  },
  {
   "cell_type": "code",
   "execution_count": 95,
   "id": "f4da2c51",
   "metadata": {},
   "outputs": [
    {
     "data": {
      "text/html": [
       "<div>\n",
       "<style scoped>\n",
       "    .dataframe tbody tr th:only-of-type {\n",
       "        vertical-align: middle;\n",
       "    }\n",
       "\n",
       "    .dataframe tbody tr th {\n",
       "        vertical-align: top;\n",
       "    }\n",
       "\n",
       "    .dataframe thead th {\n",
       "        text-align: right;\n",
       "    }\n",
       "</style>\n",
       "<table border=\"1\" class=\"dataframe\">\n",
       "  <thead>\n",
       "    <tr style=\"text-align: right;\">\n",
       "      <th></th>\n",
       "      <th>student_id</th>\n",
       "      <th>math</th>\n",
       "      <th>physics</th>\n",
       "      <th>chemistry</th>\n",
       "      <th>biology</th>\n",
       "      <th>english</th>\n",
       "      <th>social_studies</th>\n",
       "    </tr>\n",
       "  </thead>\n",
       "  <tbody>\n",
       "    <tr>\n",
       "      <th>0</th>\n",
       "      <td>STU001</td>\n",
       "      <td>100</td>\n",
       "      <td>60</td>\n",
       "      <td>81.276738</td>\n",
       "      <td>52.584204</td>\n",
       "      <td>64.774407</td>\n",
       "      <td>61.538321</td>\n",
       "    </tr>\n",
       "    <tr>\n",
       "      <th>1</th>\n",
       "      <td>STU002</td>\n",
       "      <td>69</td>\n",
       "      <td>80</td>\n",
       "      <td>45.622675</td>\n",
       "      <td>75.089139</td>\n",
       "      <td>53.878280</td>\n",
       "      <td>44.518799</td>\n",
       "    </tr>\n",
       "    <tr>\n",
       "      <th>2</th>\n",
       "      <td>STU003</td>\n",
       "      <td>73</td>\n",
       "      <td>91</td>\n",
       "      <td>67.869572</td>\n",
       "      <td>56.544092</td>\n",
       "      <td>49.231596</td>\n",
       "      <td>75.226367</td>\n",
       "    </tr>\n",
       "  </tbody>\n",
       "</table>\n",
       "</div>"
      ],
      "text/plain": [
       "  student_id  math  physics  chemistry    biology    english  social_studies\n",
       "0     STU001   100       60  81.276738  52.584204  64.774407       61.538321\n",
       "1     STU002    69       80  45.622675  75.089139  53.878280       44.518799\n",
       "2     STU003    73       91  67.869572  56.544092  49.231596       75.226367"
      ]
     },
     "execution_count": 95,
     "metadata": {},
     "output_type": "execute_result"
    }
   ],
   "source": [
    "## Select first 3 rows with loc\n",
    "df_scores.loc[0:2]"
   ]
  },
  {
   "cell_type": "code",
   "execution_count": 96,
   "id": "53b8435b",
   "metadata": {},
   "outputs": [
    {
     "data": {
      "text/plain": [
       "student_id           STU002\n",
       "math                     69\n",
       "physics                  80\n",
       "chemistry         45.622675\n",
       "biology           75.089139\n",
       "english            53.87828\n",
       "social_studies    44.518799\n",
       "Name: 1, dtype: object"
      ]
     },
     "execution_count": 96,
     "metadata": {},
     "output_type": "execute_result"
    }
   ],
   "source": [
    "df_scores.loc[1]"
   ]
  },
  {
   "cell_type": "code",
   "execution_count": 97,
   "id": "985bfdbb",
   "metadata": {},
   "outputs": [
    {
     "data": {
      "text/html": [
       "<div>\n",
       "<style scoped>\n",
       "    .dataframe tbody tr th:only-of-type {\n",
       "        vertical-align: middle;\n",
       "    }\n",
       "\n",
       "    .dataframe tbody tr th {\n",
       "        vertical-align: top;\n",
       "    }\n",
       "\n",
       "    .dataframe thead th {\n",
       "        text-align: right;\n",
       "    }\n",
       "</style>\n",
       "<table border=\"1\" class=\"dataframe\">\n",
       "  <thead>\n",
       "    <tr style=\"text-align: right;\">\n",
       "      <th></th>\n",
       "      <th>student_id</th>\n",
       "      <th>math</th>\n",
       "      <th>physics</th>\n",
       "      <th>chemistry</th>\n",
       "      <th>biology</th>\n",
       "      <th>english</th>\n",
       "      <th>social_studies</th>\n",
       "    </tr>\n",
       "  </thead>\n",
       "  <tbody>\n",
       "    <tr>\n",
       "      <th>0</th>\n",
       "      <td>STU001</td>\n",
       "      <td>100</td>\n",
       "      <td>60</td>\n",
       "      <td>81.276738</td>\n",
       "      <td>52.584204</td>\n",
       "      <td>64.774407</td>\n",
       "      <td>61.538321</td>\n",
       "    </tr>\n",
       "    <tr>\n",
       "      <th>1</th>\n",
       "      <td>STU002</td>\n",
       "      <td>69</td>\n",
       "      <td>80</td>\n",
       "      <td>45.622675</td>\n",
       "      <td>75.089139</td>\n",
       "      <td>53.878280</td>\n",
       "      <td>44.518799</td>\n",
       "    </tr>\n",
       "  </tbody>\n",
       "</table>\n",
       "</div>"
      ],
      "text/plain": [
       "  student_id  math  physics  chemistry    biology    english  social_studies\n",
       "0     STU001   100       60  81.276738  52.584204  64.774407       61.538321\n",
       "1     STU002    69       80  45.622675  75.089139  53.878280       44.518799"
      ]
     },
     "execution_count": 97,
     "metadata": {},
     "output_type": "execute_result"
    }
   ],
   "source": [
    "## Select first 2 rows with loc\n",
    "df_scores.iloc[0:2]"
   ]
  },
  {
   "cell_type": "code",
   "execution_count": 98,
   "id": "127d6f6b",
   "metadata": {},
   "outputs": [
    {
     "data": {
      "text/plain": [
       "student_id           STU002\n",
       "math                     69\n",
       "physics                  80\n",
       "chemistry         45.622675\n",
       "biology           75.089139\n",
       "english            53.87828\n",
       "social_studies    44.518799\n",
       "Name: 1, dtype: object"
      ]
     },
     "execution_count": 98,
     "metadata": {},
     "output_type": "execute_result"
    }
   ],
   "source": [
    "df_scores.iloc[1]"
   ]
  },
  {
   "cell_type": "markdown",
   "id": "2080dc5a",
   "metadata": {},
   "source": [
    "## Conditional Filtering \n",
    "\n",
    "* Can filter data on any column/rows with conditional statements for e.g. \n",
    "\n",
    "* Is there any student scoring more than 60 on all subjects ?"
   ]
  },
  {
   "cell_type": "code",
   "execution_count": 99,
   "id": "8edf1cf6",
   "metadata": {},
   "outputs": [
    {
     "data": {
      "text/html": [
       "<div>\n",
       "<style scoped>\n",
       "    .dataframe tbody tr th:only-of-type {\n",
       "        vertical-align: middle;\n",
       "    }\n",
       "\n",
       "    .dataframe tbody tr th {\n",
       "        vertical-align: top;\n",
       "    }\n",
       "\n",
       "    .dataframe thead th {\n",
       "        text-align: right;\n",
       "    }\n",
       "</style>\n",
       "<table border=\"1\" class=\"dataframe\">\n",
       "  <thead>\n",
       "    <tr style=\"text-align: right;\">\n",
       "      <th></th>\n",
       "      <th>student_id</th>\n",
       "      <th>math</th>\n",
       "      <th>physics</th>\n",
       "      <th>chemistry</th>\n",
       "      <th>biology</th>\n",
       "      <th>english</th>\n",
       "      <th>social_studies</th>\n",
       "    </tr>\n",
       "  </thead>\n",
       "  <tbody>\n",
       "    <tr>\n",
       "      <th>12</th>\n",
       "      <td>STU013</td>\n",
       "      <td>62</td>\n",
       "      <td>83</td>\n",
       "      <td>70.798990</td>\n",
       "      <td>78.015375</td>\n",
       "      <td>74.570204</td>\n",
       "      <td>73.756318</td>\n",
       "    </tr>\n",
       "    <tr>\n",
       "      <th>28</th>\n",
       "      <td>STU029</td>\n",
       "      <td>72</td>\n",
       "      <td>83</td>\n",
       "      <td>70.270352</td>\n",
       "      <td>87.269511</td>\n",
       "      <td>79.376987</td>\n",
       "      <td>96.997051</td>\n",
       "    </tr>\n",
       "    <tr>\n",
       "      <th>38</th>\n",
       "      <td>STU039</td>\n",
       "      <td>63</td>\n",
       "      <td>63</td>\n",
       "      <td>65.558172</td>\n",
       "      <td>60.482480</td>\n",
       "      <td>68.746078</td>\n",
       "      <td>63.118209</td>\n",
       "    </tr>\n",
       "    <tr>\n",
       "      <th>39</th>\n",
       "      <td>STU040</td>\n",
       "      <td>89</td>\n",
       "      <td>75</td>\n",
       "      <td>61.129642</td>\n",
       "      <td>97.354660</td>\n",
       "      <td>46.399892</td>\n",
       "      <td>81.248779</td>\n",
       "    </tr>\n",
       "    <tr>\n",
       "      <th>54</th>\n",
       "      <td>STU055</td>\n",
       "      <td>68</td>\n",
       "      <td>76</td>\n",
       "      <td>89.295014</td>\n",
       "      <td>62.656849</td>\n",
       "      <td>71.573417</td>\n",
       "      <td>89.681300</td>\n",
       "    </tr>\n",
       "    <tr>\n",
       "      <th>74</th>\n",
       "      <td>STU075</td>\n",
       "      <td>74</td>\n",
       "      <td>71</td>\n",
       "      <td>64.118672</td>\n",
       "      <td>95.328487</td>\n",
       "      <td>71.956127</td>\n",
       "      <td>76.321243</td>\n",
       "    </tr>\n",
       "    <tr>\n",
       "      <th>98</th>\n",
       "      <td>STU099</td>\n",
       "      <td>70</td>\n",
       "      <td>68</td>\n",
       "      <td>78.382051</td>\n",
       "      <td>62.662967</td>\n",
       "      <td>66.108886</td>\n",
       "      <td>49.049391</td>\n",
       "    </tr>\n",
       "    <tr>\n",
       "      <th>116</th>\n",
       "      <td>STU117</td>\n",
       "      <td>74</td>\n",
       "      <td>66</td>\n",
       "      <td>67.925379</td>\n",
       "      <td>71.623543</td>\n",
       "      <td>83.976118</td>\n",
       "      <td>101.694293</td>\n",
       "    </tr>\n",
       "    <tr>\n",
       "      <th>118</th>\n",
       "      <td>STU119</td>\n",
       "      <td>71</td>\n",
       "      <td>71</td>\n",
       "      <td>67.141627</td>\n",
       "      <td>61.255593</td>\n",
       "      <td>67.781391</td>\n",
       "      <td>68.571192</td>\n",
       "    </tr>\n",
       "    <tr>\n",
       "      <th>120</th>\n",
       "      <td>STU121</td>\n",
       "      <td>68</td>\n",
       "      <td>62</td>\n",
       "      <td>82.642152</td>\n",
       "      <td>60.266175</td>\n",
       "      <td>82.987230</td>\n",
       "      <td>61.503892</td>\n",
       "    </tr>\n",
       "    <tr>\n",
       "      <th>184</th>\n",
       "      <td>STU185</td>\n",
       "      <td>69</td>\n",
       "      <td>62</td>\n",
       "      <td>66.027896</td>\n",
       "      <td>70.483931</td>\n",
       "      <td>48.569426</td>\n",
       "      <td>82.854161</td>\n",
       "    </tr>\n",
       "    <tr>\n",
       "      <th>192</th>\n",
       "      <td>STU193</td>\n",
       "      <td>71</td>\n",
       "      <td>65</td>\n",
       "      <td>66.063835</td>\n",
       "      <td>70.415137</td>\n",
       "      <td>48.599699</td>\n",
       "      <td>66.916277</td>\n",
       "    </tr>\n",
       "    <tr>\n",
       "      <th>195</th>\n",
       "      <td>STU196</td>\n",
       "      <td>70</td>\n",
       "      <td>66</td>\n",
       "      <td>64.257402</td>\n",
       "      <td>82.906338</td>\n",
       "      <td>61.945501</td>\n",
       "      <td>53.196424</td>\n",
       "    </tr>\n",
       "  </tbody>\n",
       "</table>\n",
       "</div>"
      ],
      "text/plain": [
       "    student_id  math  physics  chemistry    biology    english  social_studies\n",
       "12      STU013    62       83  70.798990  78.015375  74.570204       73.756318\n",
       "28      STU029    72       83  70.270352  87.269511  79.376987       96.997051\n",
       "38      STU039    63       63  65.558172  60.482480  68.746078       63.118209\n",
       "39      STU040    89       75  61.129642  97.354660  46.399892       81.248779\n",
       "54      STU055    68       76  89.295014  62.656849  71.573417       89.681300\n",
       "74      STU075    74       71  64.118672  95.328487  71.956127       76.321243\n",
       "98      STU099    70       68  78.382051  62.662967  66.108886       49.049391\n",
       "116     STU117    74       66  67.925379  71.623543  83.976118      101.694293\n",
       "118     STU119    71       71  67.141627  61.255593  67.781391       68.571192\n",
       "120     STU121    68       62  82.642152  60.266175  82.987230       61.503892\n",
       "184     STU185    69       62  66.027896  70.483931  48.569426       82.854161\n",
       "192     STU193    71       65  66.063835  70.415137  48.599699       66.916277\n",
       "195     STU196    70       66  64.257402  82.906338  61.945501       53.196424"
      ]
     },
     "execution_count": 99,
     "metadata": {},
     "output_type": "execute_result"
    }
   ],
   "source": [
    "\n",
    "df_scores[(df_scores['chemistry'] > 60) & (df_scores['math'] > 60) &\n",
    "          (df_scores['physics'] > 60) & (df_scores['biology'] > 60)]"
   ]
  },
  {
   "cell_type": "markdown",
   "id": "e6e403f1",
   "metadata": {},
   "source": [
    "* Question: Find scores of the students in Chemisty who scored more than 70 in physics and math but scored less than 50 in biology"
   ]
  },
  {
   "cell_type": "markdown",
   "id": "0ebbd5df",
   "metadata": {},
   "source": [
    "## Row wise operations \n",
    "\n",
    "* Apply/Mapping Functions"
   ]
  },
  {
   "cell_type": "markdown",
   "id": "461bff0a",
   "metadata": {},
   "source": [
    "* Let's cap the highest score to 100  and lowest score to 0 in all the subjects"
   ]
  },
  {
   "cell_type": "code",
   "execution_count": 102,
   "id": "e0eb0cf6",
   "metadata": {},
   "outputs": [],
   "source": [
    "highest = 100\n",
    "lowest = 0\n",
    "df_scores['math'] = df_scores['math'].apply(\n",
    "    lambda x: np.clip(x, lowest, highest))\n",
    "df_scores['physics'] = df_scores['physics'].apply(\n",
    "    lambda x: np.clip(x, lowest, highest))\n",
    "df_scores['chemistry'] = df_scores['chemistry'].apply(\n",
    "    lambda x: np.clip(x, lowest, highest))\n",
    "df_scores['biology'] = df_scores['biology'].apply(\n",
    "    lambda x: np.clip(x, lowest, highest))\n",
    "df_scores['social_studies'] = df_scores['social_studies'].apply(\n",
    "    lambda x: np.clip(x, lowest, highest))\n",
    "df_scores['english'] = df_scores['english'].apply(\n",
    "    lambda x: np.clip(x, lowest, highest))"
   ]
  },
  {
   "cell_type": "code",
   "execution_count": 103,
   "id": "78447a47",
   "metadata": {},
   "outputs": [
    {
     "data": {
      "text/html": [
       "<div>\n",
       "<style scoped>\n",
       "    .dataframe tbody tr th:only-of-type {\n",
       "        vertical-align: middle;\n",
       "    }\n",
       "\n",
       "    .dataframe tbody tr th {\n",
       "        vertical-align: top;\n",
       "    }\n",
       "\n",
       "    .dataframe thead th {\n",
       "        text-align: right;\n",
       "    }\n",
       "</style>\n",
       "<table border=\"1\" class=\"dataframe\">\n",
       "  <thead>\n",
       "    <tr style=\"text-align: right;\">\n",
       "      <th></th>\n",
       "      <th>math</th>\n",
       "      <th>physics</th>\n",
       "      <th>chemistry</th>\n",
       "      <th>biology</th>\n",
       "      <th>english</th>\n",
       "      <th>social_studies</th>\n",
       "    </tr>\n",
       "  </thead>\n",
       "  <tbody>\n",
       "    <tr>\n",
       "      <th>count</th>\n",
       "      <td>200.000000</td>\n",
       "      <td>200.000000</td>\n",
       "      <td>200.000000</td>\n",
       "      <td>200.000000</td>\n",
       "      <td>200.000000</td>\n",
       "      <td>200.000000</td>\n",
       "    </tr>\n",
       "    <tr>\n",
       "      <th>mean</th>\n",
       "      <td>60.220000</td>\n",
       "      <td>64.775000</td>\n",
       "      <td>50.080961</td>\n",
       "      <td>69.495391</td>\n",
       "      <td>54.835065</td>\n",
       "      <td>66.071938</td>\n",
       "    </tr>\n",
       "    <tr>\n",
       "      <th>std</th>\n",
       "      <td>15.635021</td>\n",
       "      <td>15.737622</td>\n",
       "      <td>16.413752</td>\n",
       "      <td>15.156351</td>\n",
       "      <td>14.337995</td>\n",
       "      <td>15.447414</td>\n",
       "    </tr>\n",
       "    <tr>\n",
       "      <th>min</th>\n",
       "      <td>18.000000</td>\n",
       "      <td>23.000000</td>\n",
       "      <td>8.240501</td>\n",
       "      <td>33.245891</td>\n",
       "      <td>19.896893</td>\n",
       "      <td>18.542921</td>\n",
       "    </tr>\n",
       "    <tr>\n",
       "      <th>25%</th>\n",
       "      <td>48.000000</td>\n",
       "      <td>53.000000</td>\n",
       "      <td>39.420974</td>\n",
       "      <td>60.600749</td>\n",
       "      <td>45.370198</td>\n",
       "      <td>55.901648</td>\n",
       "    </tr>\n",
       "    <tr>\n",
       "      <th>50%</th>\n",
       "      <td>62.000000</td>\n",
       "      <td>65.500000</td>\n",
       "      <td>49.267801</td>\n",
       "      <td>67.974362</td>\n",
       "      <td>53.950890</td>\n",
       "      <td>67.298549</td>\n",
       "    </tr>\n",
       "    <tr>\n",
       "      <th>75%</th>\n",
       "      <td>70.000000</td>\n",
       "      <td>77.000000</td>\n",
       "      <td>62.297216</td>\n",
       "      <td>80.060160</td>\n",
       "      <td>66.676246</td>\n",
       "      <td>75.864137</td>\n",
       "    </tr>\n",
       "    <tr>\n",
       "      <th>max</th>\n",
       "      <td>100.000000</td>\n",
       "      <td>100.000000</td>\n",
       "      <td>93.323716</td>\n",
       "      <td>100.000000</td>\n",
       "      <td>86.103865</td>\n",
       "      <td>100.000000</td>\n",
       "    </tr>\n",
       "  </tbody>\n",
       "</table>\n",
       "</div>"
      ],
      "text/plain": [
       "             math     physics   chemistry     biology     english  \\\n",
       "count  200.000000  200.000000  200.000000  200.000000  200.000000   \n",
       "mean    60.220000   64.775000   50.080961   69.495391   54.835065   \n",
       "std     15.635021   15.737622   16.413752   15.156351   14.337995   \n",
       "min     18.000000   23.000000    8.240501   33.245891   19.896893   \n",
       "25%     48.000000   53.000000   39.420974   60.600749   45.370198   \n",
       "50%     62.000000   65.500000   49.267801   67.974362   53.950890   \n",
       "75%     70.000000   77.000000   62.297216   80.060160   66.676246   \n",
       "max    100.000000  100.000000   93.323716  100.000000   86.103865   \n",
       "\n",
       "       social_studies  \n",
       "count      200.000000  \n",
       "mean        66.071938  \n",
       "std         15.447414  \n",
       "min         18.542921  \n",
       "25%         55.901648  \n",
       "50%         67.298549  \n",
       "75%         75.864137  \n",
       "max        100.000000  "
      ]
     },
     "execution_count": 103,
     "metadata": {},
     "output_type": "execute_result"
    }
   ],
   "source": [
    "df_scores.describe()"
   ]
  },
  {
   "cell_type": "code",
   "execution_count": 104,
   "id": "744c25c1",
   "metadata": {},
   "outputs": [],
   "source": [
    "def assign_letter_grade(score):\n",
    "    if score >= 80:\n",
    "        return 'A'\n",
    "    elif score < 80 and score >= 70:\n",
    "        return 'B'\n",
    "    elif score < 70 and score >= 60:\n",
    "        return 'C'\n",
    "    elif score < 60 and score >= 50:\n",
    "        return 'D'\n",
    "    else:\n",
    "        return 'F'"
   ]
  },
  {
   "cell_type": "code",
   "execution_count": 107,
   "id": "0bb59388",
   "metadata": {},
   "outputs": [],
   "source": [
    "df_scores['physics_grade'] = df_scores['physics'].apply(\n",
    "    lambda x: assign_letter_grade(x))\n",
    "df_scores['chemistry_grade'] = df_scores['chemistry'].apply(\n",
    "    lambda x: assign_letter_grade(x))\n",
    "df_scores['math_grade'] = df_scores['math'].apply(\n",
    "    lambda x: assign_letter_grade(x))\n",
    "df_scores['biology_grade'] = df_scores['biology'].apply(\n",
    "    lambda x: assign_letter_grade(x))\n",
    "df_scores['english_grade'] = df_scores['english'].apply(\n",
    "    lambda x: assign_letter_grade(x))\n",
    "df_scores['social_studies_grade'] = df_scores['social_studies'].apply(\n",
    "    lambda x: assign_letter_grade(x))"
   ]
  },
  {
   "cell_type": "markdown",
   "id": "249a85c3",
   "metadata": {},
   "source": [
    "### Note: In Python,  Lambda (key word lambda) functions are anonymous functions (doesn't need a name) "
   ]
  },
  {
   "cell_type": "code",
   "execution_count": 108,
   "id": "3a817341",
   "metadata": {},
   "outputs": [
    {
     "data": {
      "text/html": [
       "<div>\n",
       "<style scoped>\n",
       "    .dataframe tbody tr th:only-of-type {\n",
       "        vertical-align: middle;\n",
       "    }\n",
       "\n",
       "    .dataframe tbody tr th {\n",
       "        vertical-align: top;\n",
       "    }\n",
       "\n",
       "    .dataframe thead th {\n",
       "        text-align: right;\n",
       "    }\n",
       "</style>\n",
       "<table border=\"1\" class=\"dataframe\">\n",
       "  <thead>\n",
       "    <tr style=\"text-align: right;\">\n",
       "      <th></th>\n",
       "      <th>student_id</th>\n",
       "      <th>math</th>\n",
       "      <th>physics</th>\n",
       "      <th>chemistry</th>\n",
       "      <th>biology</th>\n",
       "      <th>english</th>\n",
       "      <th>social_studies</th>\n",
       "      <th>physics_grade</th>\n",
       "      <th>chemistry_grade</th>\n",
       "      <th>math_grade</th>\n",
       "      <th>biology_grade</th>\n",
       "      <th>english_grade</th>\n",
       "      <th>social_studies_grade</th>\n",
       "    </tr>\n",
       "  </thead>\n",
       "  <tbody>\n",
       "    <tr>\n",
       "      <th>0</th>\n",
       "      <td>STU001</td>\n",
       "      <td>100</td>\n",
       "      <td>60</td>\n",
       "      <td>81.276738</td>\n",
       "      <td>52.584204</td>\n",
       "      <td>64.774407</td>\n",
       "      <td>61.538321</td>\n",
       "      <td>C</td>\n",
       "      <td>A</td>\n",
       "      <td>A</td>\n",
       "      <td>D</td>\n",
       "      <td>C</td>\n",
       "      <td>C</td>\n",
       "    </tr>\n",
       "    <tr>\n",
       "      <th>1</th>\n",
       "      <td>STU002</td>\n",
       "      <td>69</td>\n",
       "      <td>80</td>\n",
       "      <td>45.622675</td>\n",
       "      <td>75.089139</td>\n",
       "      <td>53.878280</td>\n",
       "      <td>44.518799</td>\n",
       "      <td>A</td>\n",
       "      <td>F</td>\n",
       "      <td>C</td>\n",
       "      <td>B</td>\n",
       "      <td>D</td>\n",
       "      <td>F</td>\n",
       "    </tr>\n",
       "    <tr>\n",
       "      <th>2</th>\n",
       "      <td>STU003</td>\n",
       "      <td>73</td>\n",
       "      <td>91</td>\n",
       "      <td>67.869572</td>\n",
       "      <td>56.544092</td>\n",
       "      <td>49.231596</td>\n",
       "      <td>75.226367</td>\n",
       "      <td>A</td>\n",
       "      <td>C</td>\n",
       "      <td>B</td>\n",
       "      <td>D</td>\n",
       "      <td>F</td>\n",
       "      <td>B</td>\n",
       "    </tr>\n",
       "    <tr>\n",
       "      <th>3</th>\n",
       "      <td>STU004</td>\n",
       "      <td>67</td>\n",
       "      <td>75</td>\n",
       "      <td>55.109512</td>\n",
       "      <td>76.491621</td>\n",
       "      <td>61.563825</td>\n",
       "      <td>58.527499</td>\n",
       "      <td>B</td>\n",
       "      <td>D</td>\n",
       "      <td>C</td>\n",
       "      <td>B</td>\n",
       "      <td>C</td>\n",
       "      <td>D</td>\n",
       "    </tr>\n",
       "    <tr>\n",
       "      <th>4</th>\n",
       "      <td>STU005</td>\n",
       "      <td>69</td>\n",
       "      <td>67</td>\n",
       "      <td>31.489137</td>\n",
       "      <td>65.793508</td>\n",
       "      <td>47.364151</td>\n",
       "      <td>68.519956</td>\n",
       "      <td>C</td>\n",
       "      <td>F</td>\n",
       "      <td>C</td>\n",
       "      <td>C</td>\n",
       "      <td>F</td>\n",
       "      <td>C</td>\n",
       "    </tr>\n",
       "    <tr>\n",
       "      <th>...</th>\n",
       "      <td>...</td>\n",
       "      <td>...</td>\n",
       "      <td>...</td>\n",
       "      <td>...</td>\n",
       "      <td>...</td>\n",
       "      <td>...</td>\n",
       "      <td>...</td>\n",
       "      <td>...</td>\n",
       "      <td>...</td>\n",
       "      <td>...</td>\n",
       "      <td>...</td>\n",
       "      <td>...</td>\n",
       "      <td>...</td>\n",
       "    </tr>\n",
       "    <tr>\n",
       "      <th>195</th>\n",
       "      <td>STU196</td>\n",
       "      <td>70</td>\n",
       "      <td>66</td>\n",
       "      <td>64.257402</td>\n",
       "      <td>82.906338</td>\n",
       "      <td>61.945501</td>\n",
       "      <td>53.196424</td>\n",
       "      <td>C</td>\n",
       "      <td>C</td>\n",
       "      <td>B</td>\n",
       "      <td>A</td>\n",
       "      <td>C</td>\n",
       "      <td>D</td>\n",
       "    </tr>\n",
       "    <tr>\n",
       "      <th>196</th>\n",
       "      <td>STU197</td>\n",
       "      <td>61</td>\n",
       "      <td>45</td>\n",
       "      <td>45.403474</td>\n",
       "      <td>78.736806</td>\n",
       "      <td>80.647565</td>\n",
       "      <td>58.940090</td>\n",
       "      <td>F</td>\n",
       "      <td>F</td>\n",
       "      <td>C</td>\n",
       "      <td>B</td>\n",
       "      <td>A</td>\n",
       "      <td>D</td>\n",
       "    </tr>\n",
       "    <tr>\n",
       "      <th>197</th>\n",
       "      <td>STU198</td>\n",
       "      <td>53</td>\n",
       "      <td>80</td>\n",
       "      <td>62.926312</td>\n",
       "      <td>66.372832</td>\n",
       "      <td>49.763197</td>\n",
       "      <td>67.977230</td>\n",
       "      <td>A</td>\n",
       "      <td>C</td>\n",
       "      <td>D</td>\n",
       "      <td>C</td>\n",
       "      <td>F</td>\n",
       "      <td>C</td>\n",
       "    </tr>\n",
       "    <tr>\n",
       "      <th>198</th>\n",
       "      <td>STU199</td>\n",
       "      <td>60</td>\n",
       "      <td>90</td>\n",
       "      <td>65.951250</td>\n",
       "      <td>85.163014</td>\n",
       "      <td>73.541728</td>\n",
       "      <td>74.690658</td>\n",
       "      <td>A</td>\n",
       "      <td>C</td>\n",
       "      <td>C</td>\n",
       "      <td>A</td>\n",
       "      <td>B</td>\n",
       "      <td>B</td>\n",
       "    </tr>\n",
       "    <tr>\n",
       "      <th>199</th>\n",
       "      <td>STU200</td>\n",
       "      <td>28</td>\n",
       "      <td>87</td>\n",
       "      <td>40.999394</td>\n",
       "      <td>61.137528</td>\n",
       "      <td>45.351103</td>\n",
       "      <td>59.583402</td>\n",
       "      <td>A</td>\n",
       "      <td>F</td>\n",
       "      <td>F</td>\n",
       "      <td>C</td>\n",
       "      <td>F</td>\n",
       "      <td>D</td>\n",
       "    </tr>\n",
       "  </tbody>\n",
       "</table>\n",
       "<p>200 rows × 13 columns</p>\n",
       "</div>"
      ],
      "text/plain": [
       "    student_id  math  physics  chemistry    biology    english  \\\n",
       "0       STU001   100       60  81.276738  52.584204  64.774407   \n",
       "1       STU002    69       80  45.622675  75.089139  53.878280   \n",
       "2       STU003    73       91  67.869572  56.544092  49.231596   \n",
       "3       STU004    67       75  55.109512  76.491621  61.563825   \n",
       "4       STU005    69       67  31.489137  65.793508  47.364151   \n",
       "..         ...   ...      ...        ...        ...        ...   \n",
       "195     STU196    70       66  64.257402  82.906338  61.945501   \n",
       "196     STU197    61       45  45.403474  78.736806  80.647565   \n",
       "197     STU198    53       80  62.926312  66.372832  49.763197   \n",
       "198     STU199    60       90  65.951250  85.163014  73.541728   \n",
       "199     STU200    28       87  40.999394  61.137528  45.351103   \n",
       "\n",
       "     social_studies physics_grade chemistry_grade math_grade biology_grade  \\\n",
       "0         61.538321             C               A          A             D   \n",
       "1         44.518799             A               F          C             B   \n",
       "2         75.226367             A               C          B             D   \n",
       "3         58.527499             B               D          C             B   \n",
       "4         68.519956             C               F          C             C   \n",
       "..              ...           ...             ...        ...           ...   \n",
       "195       53.196424             C               C          B             A   \n",
       "196       58.940090             F               F          C             B   \n",
       "197       67.977230             A               C          D             C   \n",
       "198       74.690658             A               C          C             A   \n",
       "199       59.583402             A               F          F             C   \n",
       "\n",
       "    english_grade social_studies_grade  \n",
       "0               C                    C  \n",
       "1               D                    F  \n",
       "2               F                    B  \n",
       "3               C                    D  \n",
       "4               F                    C  \n",
       "..            ...                  ...  \n",
       "195             C                    D  \n",
       "196             A                    D  \n",
       "197             F                    C  \n",
       "198             B                    B  \n",
       "199             F                    D  \n",
       "\n",
       "[200 rows x 13 columns]"
      ]
     },
     "execution_count": 108,
     "metadata": {},
     "output_type": "execute_result"
    }
   ],
   "source": [
    "df_scores"
   ]
  },
  {
   "cell_type": "markdown",
   "id": "161753a8",
   "metadata": {},
   "source": [
    "## Aggregating in Pandas (Group By)"
   ]
  },
  {
   "cell_type": "code",
   "execution_count": 109,
   "id": "36dccc82",
   "metadata": {},
   "outputs": [
    {
     "data": {
      "text/plain": [
       "C    53\n",
       "B    41\n",
       "A    36\n",
       "D    35\n",
       "F    35\n",
       "Name: physics_grade, dtype: int64"
      ]
     },
     "execution_count": 109,
     "metadata": {},
     "output_type": "execute_result"
    }
   ],
   "source": [
    "df_scores['physics_grade'].value_counts()"
   ]
  },
  {
   "cell_type": "code",
   "execution_count": 110,
   "id": "9dbd7dca",
   "metadata": {},
   "outputs": [
    {
     "data": {
      "text/plain": [
       "F    106\n",
       "D     39\n",
       "C     29\n",
       "B     21\n",
       "A      5\n",
       "Name: chemistry_grade, dtype: int64"
      ]
     },
     "execution_count": 110,
     "metadata": {},
     "output_type": "execute_result"
    }
   ],
   "source": [
    "df_scores['chemistry_grade'].value_counts()"
   ]
  },
  {
   "cell_type": "code",
   "execution_count": 111,
   "id": "07d14a80",
   "metadata": {},
   "outputs": [
    {
     "data": {
      "text/plain": [
       "physics_grade\n",
       "A    5.581361\n",
       "B    2.773129\n",
       "C    2.977053\n",
       "D    2.805457\n",
       "F    7.005760\n",
       "Name: physics, dtype: float64"
      ]
     },
     "execution_count": 111,
     "metadata": {},
     "output_type": "execute_result"
    }
   ],
   "source": [
    "df_scores.groupby('physics_grade')['physics'].std()"
   ]
  },
  {
   "cell_type": "code",
   "execution_count": 112,
   "id": "5d7b3877",
   "metadata": {},
   "outputs": [
    {
     "data": {
      "text/plain": [
       "physics_grade\n",
       "A    86.861111\n",
       "B    75.097561\n",
       "C    64.415094\n",
       "D    54.200000\n",
       "F    41.085714\n",
       "Name: physics, dtype: float64"
      ]
     },
     "execution_count": 112,
     "metadata": {},
     "output_type": "execute_result"
    }
   ],
   "source": [
    "df_scores.groupby('physics_grade')['physics'].mean()"
   ]
  },
  {
   "cell_type": "code",
   "execution_count": 113,
   "id": "3de2b89f",
   "metadata": {},
   "outputs": [
    {
     "data": {
      "image/png": "[encoded data removed]",
      "text/plain": [
       "<Figure size 576x432 with 1 Axes>"
      ]
     },
     "metadata": {
      "needs_background": "light"
     },
     "output_type": "display_data"
    }
   ],
   "source": [
    "plt.figure(figsize=(8, 6))\n",
    "for subject in ['math', 'physics', 'chemistry', 'biology']:\n",
    "    plt.hist(df_scores[subject], alpha=0.35, label=subject)\n",
    "plt.xlabel(\"Subject\")\n",
    "plt.legend(loc='best')\n",
    "plt.title(\"Distribution of scores for each subject\")\n",
    "plt.show()"
   ]
  },
  {
   "cell_type": "markdown",
   "id": "c14c4506",
   "metadata": {},
   "source": [
    "## Question : How many students got A is all of the classes? "
   ]
  },
  {
   "cell_type": "markdown",
   "id": "616c135d",
   "metadata": {},
   "source": [
    "## Now let's get practial and work with a real dataset to review what we learned so far.  Let's load the titanic dataset (available in ../data directory) to a pandas data frame "
   ]
  },
  {
   "cell_type": "code",
   "execution_count": 40,
   "id": "5726c1e1",
   "metadata": {},
   "outputs": [],
   "source": [
    "df_titanic = pd.read_csv(\"../data/titanic_data.csv\") "
   ]
  },
  {
   "cell_type": "markdown",
   "id": "0919ee68",
   "metadata": {},
   "source": [
    "Please note that pd.read_csv can take a bunch of paramters depending on the use case.  There are also methods to load data from excel (pd.read_excel(), databases (pd.read_sql()) and other type of files. You should take a look at the pandas documentation to learn more.\n",
    "\n",
    "Now let's peek through this dataset "
   ]
  },
  {
   "cell_type": "code",
   "execution_count": 41,
   "id": "23f20637",
   "metadata": {},
   "outputs": [
    {
     "data": {
      "text/html": [
       "<div>\n",
       "<style scoped>\n",
       "    .dataframe tbody tr th:only-of-type {\n",
       "        vertical-align: middle;\n",
       "    }\n",
       "\n",
       "    .dataframe tbody tr th {\n",
       "        vertical-align: top;\n",
       "    }\n",
       "\n",
       "    .dataframe thead th {\n",
       "        text-align: right;\n",
       "    }\n",
       "</style>\n",
       "<table border=\"1\" class=\"dataframe\">\n",
       "  <thead>\n",
       "    <tr style=\"text-align: right;\">\n",
       "      <th></th>\n",
       "      <th>PassengerId</th>\n",
       "      <th>Survived</th>\n",
       "      <th>Pclass</th>\n",
       "      <th>Name</th>\n",
       "      <th>Sex</th>\n",
       "      <th>Age</th>\n",
       "      <th>SibSp</th>\n",
       "      <th>Parch</th>\n",
       "      <th>Ticket</th>\n",
       "      <th>Fare</th>\n",
       "      <th>Cabin</th>\n",
       "      <th>Embarked</th>\n",
       "    </tr>\n",
       "  </thead>\n",
       "  <tbody>\n",
       "    <tr>\n",
       "      <th>0</th>\n",
       "      <td>1</td>\n",
       "      <td>0</td>\n",
       "      <td>3</td>\n",
       "      <td>Braund, Mr. Owen Harris</td>\n",
       "      <td>male</td>\n",
       "      <td>22.0</td>\n",
       "      <td>1</td>\n",
       "      <td>0</td>\n",
       "      <td>A/5 21171</td>\n",
       "      <td>7.2500</td>\n",
       "      <td>NaN</td>\n",
       "      <td>S</td>\n",
       "    </tr>\n",
       "    <tr>\n",
       "      <th>1</th>\n",
       "      <td>2</td>\n",
       "      <td>1</td>\n",
       "      <td>1</td>\n",
       "      <td>Cumings, Mrs. John Bradley (Florence Briggs Th...</td>\n",
       "      <td>female</td>\n",
       "      <td>38.0</td>\n",
       "      <td>1</td>\n",
       "      <td>0</td>\n",
       "      <td>PC 17599</td>\n",
       "      <td>71.2833</td>\n",
       "      <td>C85</td>\n",
       "      <td>C</td>\n",
       "    </tr>\n",
       "    <tr>\n",
       "      <th>2</th>\n",
       "      <td>3</td>\n",
       "      <td>1</td>\n",
       "      <td>3</td>\n",
       "      <td>Heikkinen, Miss. Laina</td>\n",
       "      <td>female</td>\n",
       "      <td>26.0</td>\n",
       "      <td>0</td>\n",
       "      <td>0</td>\n",
       "      <td>STON/O2. 3101282</td>\n",
       "      <td>7.9250</td>\n",
       "      <td>NaN</td>\n",
       "      <td>S</td>\n",
       "    </tr>\n",
       "    <tr>\n",
       "      <th>3</th>\n",
       "      <td>4</td>\n",
       "      <td>1</td>\n",
       "      <td>1</td>\n",
       "      <td>Futrelle, Mrs. Jacques Heath (Lily May Peel)</td>\n",
       "      <td>female</td>\n",
       "      <td>35.0</td>\n",
       "      <td>1</td>\n",
       "      <td>0</td>\n",
       "      <td>113803</td>\n",
       "      <td>53.1000</td>\n",
       "      <td>C123</td>\n",
       "      <td>S</td>\n",
       "    </tr>\n",
       "    <tr>\n",
       "      <th>4</th>\n",
       "      <td>5</td>\n",
       "      <td>0</td>\n",
       "      <td>3</td>\n",
       "      <td>Allen, Mr. William Henry</td>\n",
       "      <td>male</td>\n",
       "      <td>35.0</td>\n",
       "      <td>0</td>\n",
       "      <td>0</td>\n",
       "      <td>373450</td>\n",
       "      <td>8.0500</td>\n",
       "      <td>NaN</td>\n",
       "      <td>S</td>\n",
       "    </tr>\n",
       "    <tr>\n",
       "      <th>5</th>\n",
       "      <td>6</td>\n",
       "      <td>0</td>\n",
       "      <td>3</td>\n",
       "      <td>Moran, Mr. James</td>\n",
       "      <td>male</td>\n",
       "      <td>NaN</td>\n",
       "      <td>0</td>\n",
       "      <td>0</td>\n",
       "      <td>330877</td>\n",
       "      <td>8.4583</td>\n",
       "      <td>NaN</td>\n",
       "      <td>Q</td>\n",
       "    </tr>\n",
       "    <tr>\n",
       "      <th>6</th>\n",
       "      <td>7</td>\n",
       "      <td>0</td>\n",
       "      <td>1</td>\n",
       "      <td>McCarthy, Mr. Timothy J</td>\n",
       "      <td>male</td>\n",
       "      <td>54.0</td>\n",
       "      <td>0</td>\n",
       "      <td>0</td>\n",
       "      <td>17463</td>\n",
       "      <td>51.8625</td>\n",
       "      <td>E46</td>\n",
       "      <td>S</td>\n",
       "    </tr>\n",
       "    <tr>\n",
       "      <th>7</th>\n",
       "      <td>8</td>\n",
       "      <td>0</td>\n",
       "      <td>3</td>\n",
       "      <td>Palsson, Master. Gosta Leonard</td>\n",
       "      <td>male</td>\n",
       "      <td>2.0</td>\n",
       "      <td>3</td>\n",
       "      <td>1</td>\n",
       "      <td>349909</td>\n",
       "      <td>21.0750</td>\n",
       "      <td>NaN</td>\n",
       "      <td>S</td>\n",
       "    </tr>\n",
       "    <tr>\n",
       "      <th>8</th>\n",
       "      <td>9</td>\n",
       "      <td>1</td>\n",
       "      <td>3</td>\n",
       "      <td>Johnson, Mrs. Oscar W (Elisabeth Vilhelmina Berg)</td>\n",
       "      <td>female</td>\n",
       "      <td>27.0</td>\n",
       "      <td>0</td>\n",
       "      <td>2</td>\n",
       "      <td>347742</td>\n",
       "      <td>11.1333</td>\n",
       "      <td>NaN</td>\n",
       "      <td>S</td>\n",
       "    </tr>\n",
       "    <tr>\n",
       "      <th>9</th>\n",
       "      <td>10</td>\n",
       "      <td>1</td>\n",
       "      <td>2</td>\n",
       "      <td>Nasser, Mrs. Nicholas (Adele Achem)</td>\n",
       "      <td>female</td>\n",
       "      <td>14.0</td>\n",
       "      <td>1</td>\n",
       "      <td>0</td>\n",
       "      <td>237736</td>\n",
       "      <td>30.0708</td>\n",
       "      <td>NaN</td>\n",
       "      <td>C</td>\n",
       "    </tr>\n",
       "  </tbody>\n",
       "</table>\n",
       "</div>"
      ],
      "text/plain": [
       "   PassengerId  Survived  Pclass  \\\n",
       "0            1         0       3   \n",
       "1            2         1       1   \n",
       "2            3         1       3   \n",
       "3            4         1       1   \n",
       "4            5         0       3   \n",
       "5            6         0       3   \n",
       "6            7         0       1   \n",
       "7            8         0       3   \n",
       "8            9         1       3   \n",
       "9           10         1       2   \n",
       "\n",
       "                                                Name     Sex   Age  SibSp  \\\n",
       "0                            Braund, Mr. Owen Harris    male  22.0      1   \n",
       "1  Cumings, Mrs. John Bradley (Florence Briggs Th...  female  38.0      1   \n",
       "2                             Heikkinen, Miss. Laina  female  26.0      0   \n",
       "3       Futrelle, Mrs. Jacques Heath (Lily May Peel)  female  35.0      1   \n",
       "4                           Allen, Mr. William Henry    male  35.0      0   \n",
       "5                                   Moran, Mr. James    male   NaN      0   \n",
       "6                            McCarthy, Mr. Timothy J    male  54.0      0   \n",
       "7                     Palsson, Master. Gosta Leonard    male   2.0      3   \n",
       "8  Johnson, Mrs. Oscar W (Elisabeth Vilhelmina Berg)  female  27.0      0   \n",
       "9                Nasser, Mrs. Nicholas (Adele Achem)  female  14.0      1   \n",
       "\n",
       "   Parch            Ticket     Fare Cabin Embarked  \n",
       "0      0         A/5 21171   7.2500   NaN        S  \n",
       "1      0          PC 17599  71.2833   C85        C  \n",
       "2      0  STON/O2. 3101282   7.9250   NaN        S  \n",
       "3      0            113803  53.1000  C123        S  \n",
       "4      0            373450   8.0500   NaN        S  \n",
       "5      0            330877   8.4583   NaN        Q  \n",
       "6      0             17463  51.8625   E46        S  \n",
       "7      1            349909  21.0750   NaN        S  \n",
       "8      2            347742  11.1333   NaN        S  \n",
       "9      0            237736  30.0708   NaN        C  "
      ]
     },
     "execution_count": 41,
     "metadata": {},
     "output_type": "execute_result"
    }
   ],
   "source": [
    "df_titanic.head(n=10)"
   ]
  },
  {
   "cell_type": "code",
   "execution_count": 42,
   "id": "160e243a",
   "metadata": {},
   "outputs": [
    {
     "data": {
      "text/html": [
       "<div>\n",
       "<style scoped>\n",
       "    .dataframe tbody tr th:only-of-type {\n",
       "        vertical-align: middle;\n",
       "    }\n",
       "\n",
       "    .dataframe tbody tr th {\n",
       "        vertical-align: top;\n",
       "    }\n",
       "\n",
       "    .dataframe thead th {\n",
       "        text-align: right;\n",
       "    }\n",
       "</style>\n",
       "<table border=\"1\" class=\"dataframe\">\n",
       "  <thead>\n",
       "    <tr style=\"text-align: right;\">\n",
       "      <th></th>\n",
       "      <th>PassengerId</th>\n",
       "      <th>Survived</th>\n",
       "      <th>Pclass</th>\n",
       "      <th>Name</th>\n",
       "      <th>Sex</th>\n",
       "      <th>Age</th>\n",
       "      <th>SibSp</th>\n",
       "      <th>Parch</th>\n",
       "      <th>Ticket</th>\n",
       "      <th>Fare</th>\n",
       "      <th>Cabin</th>\n",
       "      <th>Embarked</th>\n",
       "    </tr>\n",
       "  </thead>\n",
       "  <tbody>\n",
       "    <tr>\n",
       "      <th>888</th>\n",
       "      <td>889</td>\n",
       "      <td>0</td>\n",
       "      <td>3</td>\n",
       "      <td>Johnston, Miss. Catherine Helen \"Carrie\"</td>\n",
       "      <td>female</td>\n",
       "      <td>NaN</td>\n",
       "      <td>1</td>\n",
       "      <td>2</td>\n",
       "      <td>W./C. 6607</td>\n",
       "      <td>23.45</td>\n",
       "      <td>NaN</td>\n",
       "      <td>S</td>\n",
       "    </tr>\n",
       "    <tr>\n",
       "      <th>889</th>\n",
       "      <td>890</td>\n",
       "      <td>1</td>\n",
       "      <td>1</td>\n",
       "      <td>Behr, Mr. Karl Howell</td>\n",
       "      <td>male</td>\n",
       "      <td>26.0</td>\n",
       "      <td>0</td>\n",
       "      <td>0</td>\n",
       "      <td>111369</td>\n",
       "      <td>30.00</td>\n",
       "      <td>C148</td>\n",
       "      <td>C</td>\n",
       "    </tr>\n",
       "    <tr>\n",
       "      <th>890</th>\n",
       "      <td>891</td>\n",
       "      <td>0</td>\n",
       "      <td>3</td>\n",
       "      <td>Dooley, Mr. Patrick</td>\n",
       "      <td>male</td>\n",
       "      <td>32.0</td>\n",
       "      <td>0</td>\n",
       "      <td>0</td>\n",
       "      <td>370376</td>\n",
       "      <td>7.75</td>\n",
       "      <td>NaN</td>\n",
       "      <td>Q</td>\n",
       "    </tr>\n",
       "  </tbody>\n",
       "</table>\n",
       "</div>"
      ],
      "text/plain": [
       "     PassengerId  Survived  Pclass                                      Name  \\\n",
       "888          889         0       3  Johnston, Miss. Catherine Helen \"Carrie\"   \n",
       "889          890         1       1                     Behr, Mr. Karl Howell   \n",
       "890          891         0       3                       Dooley, Mr. Patrick   \n",
       "\n",
       "        Sex   Age  SibSp  Parch      Ticket   Fare Cabin Embarked  \n",
       "888  female   NaN      1      2  W./C. 6607  23.45   NaN        S  \n",
       "889    male  26.0      0      0      111369  30.00  C148        C  \n",
       "890    male  32.0      0      0      370376   7.75   NaN        Q  "
      ]
     },
     "execution_count": 42,
     "metadata": {},
     "output_type": "execute_result"
    }
   ],
   "source": [
    "df_titanic.tail(n=3)"
   ]
  },
  {
   "cell_type": "code",
   "execution_count": 57,
   "id": "1ad48a56",
   "metadata": {},
   "outputs": [
    {
     "data": {
      "text/plain": [
       "(891, 15)"
      ]
     },
     "execution_count": 57,
     "metadata": {},
     "output_type": "execute_result"
    }
   ],
   "source": [
    "df_titanic.shape\n",
    "# 891 rows and 12 columns"
   ]
  },
  {
   "cell_type": "markdown",
   "id": "0ae52c1c",
   "metadata": {},
   "source": [
    "## HW \n",
    "## Describe the data\n",
    "## Print more info about the data\n",
    "## How many passengers are there in the dataset? \n"
   ]
  },
  {
   "cell_type": "markdown",
   "id": "31bb6f08",
   "metadata": {},
   "source": [
    "## Note that real data in never clean and alot of time is spent on cleaning the data and preparing it for analysis. The Data cleaning/prepping is dependant on the quality of the collected data. Let's see some common data cleaning steps \n",
    "\n",
    "* Dealing with Missing Values : Most frequently encountered problem is missing values in the collected data. There are no set methods on how those should be dealt and should be done carefully: \n",
    "\n",
    "  * Imputing vs Deleting: We can either impute meaning develop some reasonable guesses for missing data when the percentage of missing data is low. It may not be suitable if the portion of missing data is too high. The other option is to to remove the missing rows/column of data entirely if affordable. When dealing with data that is missing at random, related data can be deleted to reduce bias. You should do what best fits the need with the given situation. "
   ]
  },
  {
   "cell_type": "code",
   "execution_count": 114,
   "id": "fe54a9dc",
   "metadata": {},
   "outputs": [
    {
     "data": {
      "text/plain": [
       "PassengerId      0\n",
       "Survived         0\n",
       "Pclass           0\n",
       "Name             0\n",
       "Sex              0\n",
       "Age            177\n",
       "SibSp            0\n",
       "Parch            0\n",
       "Ticket           0\n",
       "Fare             0\n",
       "Cabin          687\n",
       "Embarked         2\n",
       "age_avg          0\n",
       "age_ffill        0\n",
       "age_itp          0\n",
       "dtype: int64"
      ]
     },
     "execution_count": 114,
     "metadata": {},
     "output_type": "execute_result"
    }
   ],
   "source": [
    "df_titanic.isna().sum()"
   ]
  },
  {
   "cell_type": "markdown",
   "id": "759fe4b5",
   "metadata": {},
   "source": [
    "# Lets calculte the % of missing data  "
   ]
  },
  {
   "cell_type": "code",
   "execution_count": 115,
   "id": "1da9f7f4",
   "metadata": {},
   "outputs": [
    {
     "data": {
      "text/plain": [
       "PassengerId     0.000000\n",
       "Survived        0.000000\n",
       "Pclass          0.000000\n",
       "Name            0.000000\n",
       "Sex             0.000000\n",
       "Age            19.865320\n",
       "SibSp           0.000000\n",
       "Parch           0.000000\n",
       "Ticket          0.000000\n",
       "Fare            0.000000\n",
       "Cabin          77.104377\n",
       "Embarked        0.224467\n",
       "age_avg         0.000000\n",
       "age_ffill       0.000000\n",
       "age_itp         0.000000\n",
       "dtype: float64"
      ]
     },
     "execution_count": 115,
     "metadata": {},
     "output_type": "execute_result"
    }
   ],
   "source": [
    "df_titanic.isna().sum()*100/df_titanic.shape[0]"
   ]
  },
  {
   "cell_type": "markdown",
   "id": "f9413954",
   "metadata": {},
   "source": [
    "so we see that Embarked (port of embarkation) is missing for 0.22 % of the passengers, the age is missing for ~20% and Cabin info is missing for 77 % of the passengers. What do you think will be a good method to deal with these missing values ? "
   ]
  },
  {
   "cell_type": "markdown",
   "id": "33cfad08",
   "metadata": {},
   "source": [
    "## Imputation Methods: \n",
    "\n",
    "  ### For Numerical Values like age\n",
    "  \n",
    "   * Use mean/median/mode of the available values\n",
    "   * Use forward fill from last available data\n",
    "   * Interpolate from available values\n",
    "   \n",
    "  ### For Categorical Values Cabin/Embarked \n",
    "   * can use most frequent categogy to fill\n"
   ]
  },
  {
   "cell_type": "code",
   "execution_count": 116,
   "id": "6ce5c5dc",
   "metadata": {},
   "outputs": [],
   "source": [
    "df_titanic['age_avg'] = df_titanic['Age']\n",
    "df_titanic['age_ffill'] = df_titanic['Age']\n",
    "df_titanic['age_itp'] = df_titanic['Age']"
   ]
  },
  {
   "cell_type": "code",
   "execution_count": 117,
   "id": "349c106f",
   "metadata": {},
   "outputs": [
    {
     "data": {
      "text/plain": [
       "Age          177\n",
       "age_avg      177\n",
       "age_ffill    177\n",
       "age_itp      177\n",
       "dtype: int64"
      ]
     },
     "execution_count": 117,
     "metadata": {},
     "output_type": "execute_result"
    }
   ],
   "source": [
    "df_titanic[['Age', 'age_avg', 'age_ffill', 'age_itp']].isna().sum()"
   ]
  },
  {
   "cell_type": "code",
   "execution_count": 118,
   "id": "cb479b1f",
   "metadata": {},
   "outputs": [],
   "source": [
    "df_titanic['age_avg'].fillna(df_titanic['age_avg'].mean(), inplace=True)\n",
    "df_titanic['age_ffill'] = df_titanic['age_ffill'].fillna(method ='ffill')\n",
    "df_titanic['age_itp'] = df_titanic['age_itp'].interpolate(method ='linear')"
   ]
  },
  {
   "cell_type": "code",
   "execution_count": 119,
   "id": "ddf3624f",
   "metadata": {},
   "outputs": [
    {
     "data": {
      "text/plain": [
       "Age          177\n",
       "age_avg        0\n",
       "age_ffill      0\n",
       "age_itp        0\n",
       "dtype: int64"
      ]
     },
     "execution_count": 119,
     "metadata": {},
     "output_type": "execute_result"
    }
   ],
   "source": [
    "df_titanic[['Age', 'age_avg', 'age_ffill', 'age_itp']].isna().sum()"
   ]
  },
  {
   "cell_type": "code",
   "execution_count": 120,
   "id": "3447e4ad",
   "metadata": {},
   "outputs": [
    {
     "data": {
      "text/html": [
       "<div>\n",
       "<style scoped>\n",
       "    .dataframe tbody tr th:only-of-type {\n",
       "        vertical-align: middle;\n",
       "    }\n",
       "\n",
       "    .dataframe tbody tr th {\n",
       "        vertical-align: top;\n",
       "    }\n",
       "\n",
       "    .dataframe thead th {\n",
       "        text-align: right;\n",
       "    }\n",
       "</style>\n",
       "<table border=\"1\" class=\"dataframe\">\n",
       "  <thead>\n",
       "    <tr style=\"text-align: right;\">\n",
       "      <th></th>\n",
       "      <th>Age</th>\n",
       "      <th>age_avg</th>\n",
       "      <th>age_ffill</th>\n",
       "      <th>age_itp</th>\n",
       "    </tr>\n",
       "  </thead>\n",
       "  <tbody>\n",
       "    <tr>\n",
       "      <th>5</th>\n",
       "      <td>NaN</td>\n",
       "      <td>29.699118</td>\n",
       "      <td>35.0</td>\n",
       "      <td>44.5</td>\n",
       "    </tr>\n",
       "    <tr>\n",
       "      <th>17</th>\n",
       "      <td>NaN</td>\n",
       "      <td>29.699118</td>\n",
       "      <td>2.0</td>\n",
       "      <td>16.5</td>\n",
       "    </tr>\n",
       "    <tr>\n",
       "      <th>19</th>\n",
       "      <td>NaN</td>\n",
       "      <td>29.699118</td>\n",
       "      <td>31.0</td>\n",
       "      <td>33.0</td>\n",
       "    </tr>\n",
       "    <tr>\n",
       "      <th>26</th>\n",
       "      <td>NaN</td>\n",
       "      <td>29.699118</td>\n",
       "      <td>38.0</td>\n",
       "      <td>28.5</td>\n",
       "    </tr>\n",
       "    <tr>\n",
       "      <th>28</th>\n",
       "      <td>NaN</td>\n",
       "      <td>29.699118</td>\n",
       "      <td>19.0</td>\n",
       "      <td>26.0</td>\n",
       "    </tr>\n",
       "    <tr>\n",
       "      <th>...</th>\n",
       "      <td>...</td>\n",
       "      <td>...</td>\n",
       "      <td>...</td>\n",
       "      <td>...</td>\n",
       "    </tr>\n",
       "    <tr>\n",
       "      <th>859</th>\n",
       "      <td>NaN</td>\n",
       "      <td>29.699118</td>\n",
       "      <td>24.0</td>\n",
       "      <td>32.5</td>\n",
       "    </tr>\n",
       "    <tr>\n",
       "      <th>863</th>\n",
       "      <td>NaN</td>\n",
       "      <td>29.699118</td>\n",
       "      <td>48.0</td>\n",
       "      <td>36.0</td>\n",
       "    </tr>\n",
       "    <tr>\n",
       "      <th>868</th>\n",
       "      <td>NaN</td>\n",
       "      <td>29.699118</td>\n",
       "      <td>31.0</td>\n",
       "      <td>17.5</td>\n",
       "    </tr>\n",
       "    <tr>\n",
       "      <th>878</th>\n",
       "      <td>NaN</td>\n",
       "      <td>29.699118</td>\n",
       "      <td>19.0</td>\n",
       "      <td>37.5</td>\n",
       "    </tr>\n",
       "    <tr>\n",
       "      <th>888</th>\n",
       "      <td>NaN</td>\n",
       "      <td>29.699118</td>\n",
       "      <td>19.0</td>\n",
       "      <td>22.5</td>\n",
       "    </tr>\n",
       "  </tbody>\n",
       "</table>\n",
       "<p>177 rows × 4 columns</p>\n",
       "</div>"
      ],
      "text/plain": [
       "     Age    age_avg  age_ffill  age_itp\n",
       "5    NaN  29.699118       35.0     44.5\n",
       "17   NaN  29.699118        2.0     16.5\n",
       "19   NaN  29.699118       31.0     33.0\n",
       "26   NaN  29.699118       38.0     28.5\n",
       "28   NaN  29.699118       19.0     26.0\n",
       "..   ...        ...        ...      ...\n",
       "859  NaN  29.699118       24.0     32.5\n",
       "863  NaN  29.699118       48.0     36.0\n",
       "868  NaN  29.699118       31.0     17.5\n",
       "878  NaN  29.699118       19.0     37.5\n",
       "888  NaN  29.699118       19.0     22.5\n",
       "\n",
       "[177 rows x 4 columns]"
      ]
     },
     "execution_count": 120,
     "metadata": {},
     "output_type": "execute_result"
    }
   ],
   "source": [
    "df_titanic[df_titanic['Age'].isna()][['Age', 'age_avg', 'age_ffill',\n",
    "                                       'age_itp']]"
   ]
  },
  {
   "cell_type": "code",
   "execution_count": 121,
   "id": "8acebdf5",
   "metadata": {},
   "outputs": [],
   "source": [
    "def plot_histograms(df, column_list):\n",
    "    plt.figure(figsize=(8, 6))\n",
    "    for column in column_list:\n",
    "        plt.hist(df_titanic[column], alpha=0.35, label=column)\n",
    "    plt.xlabel(column_list[0])\n",
    "    plt.legend(loc='best')\n",
    "    plt.title(f\"Histogram of {column_list[0]}\")\n",
    "    plt.show()"
   ]
  },
  {
   "cell_type": "code",
   "execution_count": 122,
   "id": "98a7b0d6",
   "metadata": {},
   "outputs": [
    {
     "data": {
      "image/png": "[encoded data removed]",
      "text/plain": [
       "<Figure size 576x432 with 1 Axes>"
      ]
     },
     "metadata": {
      "needs_background": "light"
     },
     "output_type": "display_data"
    }
   ],
   "source": [
    "cols_of_interest = ['Age', 'age_avg', 'age_ffill', 'age_itp']\n",
    "\n",
    "plot_histograms(df_titanic, column_list=cols_of_interest)"
   ]
  },
  {
   "cell_type": "markdown",
   "id": "b6b0c4bc",
   "metadata": {},
   "source": [
    "* What was the % of male (female) of passengers? "
   ]
  },
  {
   "cell_type": "code",
   "execution_count": 123,
   "id": "9513b186",
   "metadata": {},
   "outputs": [
    {
     "data": {
      "text/plain": [
       "male      0.647587\n",
       "female    0.352413\n",
       "Name: Sex, dtype: float64"
      ]
     },
     "execution_count": 123,
     "metadata": {},
     "output_type": "execute_result"
    }
   ],
   "source": [
    "df_titanic['Sex'].value_counts(normalize=True)"
   ]
  },
  {
   "cell_type": "markdown",
   "id": "f940d013",
   "metadata": {},
   "source": [
    "* What fraction of the passengers were children?\n",
    "* What fraction of passengers died/Survived ?\n",
    "* What franction of male/female survived ? \n",
    "* What was the average age of passsengers that died/Survived ? "
   ]
  },
  {
   "cell_type": "code",
   "execution_count": 126,
   "id": "336625d9",
   "metadata": {},
   "outputs": [],
   "source": [
    "## I also have a world gdp data in the data folder. You may wish to play around with it to use these skill \n",
    "df = pd.read_csv(\"../data/API_NY.GDP.MKTP.CD_DS2_en_csv_v2_4764766.csv\")"
   ]
  },
  {
   "cell_type": "code",
   "execution_count": 127,
   "id": "64fc83f7",
   "metadata": {},
   "outputs": [
    {
     "data": {
      "text/html": [
       "<div>\n",
       "<style scoped>\n",
       "    .dataframe tbody tr th:only-of-type {\n",
       "        vertical-align: middle;\n",
       "    }\n",
       "\n",
       "    .dataframe tbody tr th {\n",
       "        vertical-align: top;\n",
       "    }\n",
       "\n",
       "    .dataframe thead th {\n",
       "        text-align: right;\n",
       "    }\n",
       "</style>\n",
       "<table border=\"1\" class=\"dataframe\">\n",
       "  <thead>\n",
       "    <tr style=\"text-align: right;\">\n",
       "      <th></th>\n",
       "      <th>Country Name</th>\n",
       "      <th>Country Code</th>\n",
       "      <th>Indicator Name</th>\n",
       "      <th>Indicator Code</th>\n",
       "      <th>1960</th>\n",
       "      <th>1961</th>\n",
       "      <th>1962</th>\n",
       "      <th>1963</th>\n",
       "      <th>1964</th>\n",
       "      <th>1965</th>\n",
       "      <th>...</th>\n",
       "      <th>2013</th>\n",
       "      <th>2014</th>\n",
       "      <th>2015</th>\n",
       "      <th>2016</th>\n",
       "      <th>2017</th>\n",
       "      <th>2018</th>\n",
       "      <th>2019</th>\n",
       "      <th>2020</th>\n",
       "      <th>2021</th>\n",
       "      <th>Unnamed: 66</th>\n",
       "    </tr>\n",
       "  </thead>\n",
       "  <tbody>\n",
       "    <tr>\n",
       "      <th>0</th>\n",
       "      <td>Aruba</td>\n",
       "      <td>ABW</td>\n",
       "      <td>GDP (current US$)</td>\n",
       "      <td>NY.GDP.MKTP.CD</td>\n",
       "      <td>NaN</td>\n",
       "      <td>NaN</td>\n",
       "      <td>NaN</td>\n",
       "      <td>NaN</td>\n",
       "      <td>NaN</td>\n",
       "      <td>NaN</td>\n",
       "      <td>...</td>\n",
       "      <td>2.727933e+09</td>\n",
       "      <td>2.791061e+09</td>\n",
       "      <td>2.963128e+09</td>\n",
       "      <td>2.983799e+09</td>\n",
       "      <td>3.092179e+09</td>\n",
       "      <td>3.202235e+09</td>\n",
       "      <td>3.310056e+09</td>\n",
       "      <td>2.496648e+09</td>\n",
       "      <td>NaN</td>\n",
       "      <td>NaN</td>\n",
       "    </tr>\n",
       "    <tr>\n",
       "      <th>1</th>\n",
       "      <td>Africa Eastern and Southern</td>\n",
       "      <td>AFE</td>\n",
       "      <td>GDP (current US$)</td>\n",
       "      <td>NY.GDP.MKTP.CD</td>\n",
       "      <td>2.129059e+10</td>\n",
       "      <td>2.180847e+10</td>\n",
       "      <td>2.370702e+10</td>\n",
       "      <td>2.821004e+10</td>\n",
       "      <td>2.611879e+10</td>\n",
       "      <td>2.968217e+10</td>\n",
       "      <td>...</td>\n",
       "      <td>9.839370e+11</td>\n",
       "      <td>1.003679e+12</td>\n",
       "      <td>9.242525e+11</td>\n",
       "      <td>8.823551e+11</td>\n",
       "      <td>1.020647e+12</td>\n",
       "      <td>9.910223e+11</td>\n",
       "      <td>9.975340e+11</td>\n",
       "      <td>9.216459e+11</td>\n",
       "      <td>1.082096e+12</td>\n",
       "      <td>NaN</td>\n",
       "    </tr>\n",
       "    <tr>\n",
       "      <th>2</th>\n",
       "      <td>Afghanistan</td>\n",
       "      <td>AFG</td>\n",
       "      <td>GDP (current US$)</td>\n",
       "      <td>NY.GDP.MKTP.CD</td>\n",
       "      <td>5.377778e+08</td>\n",
       "      <td>5.488889e+08</td>\n",
       "      <td>5.466667e+08</td>\n",
       "      <td>7.511112e+08</td>\n",
       "      <td>8.000000e+08</td>\n",
       "      <td>1.006667e+09</td>\n",
       "      <td>...</td>\n",
       "      <td>2.014640e+10</td>\n",
       "      <td>2.049713e+10</td>\n",
       "      <td>1.913421e+10</td>\n",
       "      <td>1.811656e+10</td>\n",
       "      <td>1.875347e+10</td>\n",
       "      <td>1.805323e+10</td>\n",
       "      <td>1.879945e+10</td>\n",
       "      <td>2.011614e+10</td>\n",
       "      <td>NaN</td>\n",
       "      <td>NaN</td>\n",
       "    </tr>\n",
       "    <tr>\n",
       "      <th>3</th>\n",
       "      <td>Africa Western and Central</td>\n",
       "      <td>AFW</td>\n",
       "      <td>GDP (current US$)</td>\n",
       "      <td>NY.GDP.MKTP.CD</td>\n",
       "      <td>1.040414e+10</td>\n",
       "      <td>1.112789e+10</td>\n",
       "      <td>1.194319e+10</td>\n",
       "      <td>1.267633e+10</td>\n",
       "      <td>1.383837e+10</td>\n",
       "      <td>1.486223e+10</td>\n",
       "      <td>...</td>\n",
       "      <td>8.207927e+11</td>\n",
       "      <td>8.649905e+11</td>\n",
       "      <td>7.607345e+11</td>\n",
       "      <td>6.905464e+11</td>\n",
       "      <td>6.837487e+11</td>\n",
       "      <td>7.416899e+11</td>\n",
       "      <td>7.945430e+11</td>\n",
       "      <td>7.844457e+11</td>\n",
       "      <td>8.358084e+11</td>\n",
       "      <td>NaN</td>\n",
       "    </tr>\n",
       "    <tr>\n",
       "      <th>4</th>\n",
       "      <td>Angola</td>\n",
       "      <td>AGO</td>\n",
       "      <td>GDP (current US$)</td>\n",
       "      <td>NY.GDP.MKTP.CD</td>\n",
       "      <td>NaN</td>\n",
       "      <td>NaN</td>\n",
       "      <td>NaN</td>\n",
       "      <td>NaN</td>\n",
       "      <td>NaN</td>\n",
       "      <td>NaN</td>\n",
       "      <td>...</td>\n",
       "      <td>1.334016e+11</td>\n",
       "      <td>1.372444e+11</td>\n",
       "      <td>8.721929e+10</td>\n",
       "      <td>4.984049e+10</td>\n",
       "      <td>6.897276e+10</td>\n",
       "      <td>7.779294e+10</td>\n",
       "      <td>6.930910e+10</td>\n",
       "      <td>5.361907e+10</td>\n",
       "      <td>7.254699e+10</td>\n",
       "      <td>NaN</td>\n",
       "    </tr>\n",
       "  </tbody>\n",
       "</table>\n",
       "<p>5 rows × 67 columns</p>\n",
       "</div>"
      ],
      "text/plain": [
       "                  Country Name Country Code     Indicator Name  \\\n",
       "0                        Aruba          ABW  GDP (current US$)   \n",
       "1  Africa Eastern and Southern          AFE  GDP (current US$)   \n",
       "2                  Afghanistan          AFG  GDP (current US$)   \n",
       "3   Africa Western and Central          AFW  GDP (current US$)   \n",
       "4                       Angola          AGO  GDP (current US$)   \n",
       "\n",
       "   Indicator Code          1960          1961          1962          1963  \\\n",
       "0  NY.GDP.MKTP.CD           NaN           NaN           NaN           NaN   \n",
       "1  NY.GDP.MKTP.CD  2.129059e+10  2.180847e+10  2.370702e+10  2.821004e+10   \n",
       "2  NY.GDP.MKTP.CD  5.377778e+08  5.488889e+08  5.466667e+08  7.511112e+08   \n",
       "3  NY.GDP.MKTP.CD  1.040414e+10  1.112789e+10  1.194319e+10  1.267633e+10   \n",
       "4  NY.GDP.MKTP.CD           NaN           NaN           NaN           NaN   \n",
       "\n",
       "           1964          1965  ...          2013          2014          2015  \\\n",
       "0           NaN           NaN  ...  2.727933e+09  2.791061e+09  2.963128e+09   \n",
       "1  2.611879e+10  2.968217e+10  ...  9.839370e+11  1.003679e+12  9.242525e+11   \n",
       "2  8.000000e+08  1.006667e+09  ...  2.014640e+10  2.049713e+10  1.913421e+10   \n",
       "3  1.383837e+10  1.486223e+10  ...  8.207927e+11  8.649905e+11  7.607345e+11   \n",
       "4           NaN           NaN  ...  1.334016e+11  1.372444e+11  8.721929e+10   \n",
       "\n",
       "           2016          2017          2018          2019          2020  \\\n",
       "0  2.983799e+09  3.092179e+09  3.202235e+09  3.310056e+09  2.496648e+09   \n",
       "1  8.823551e+11  1.020647e+12  9.910223e+11  9.975340e+11  9.216459e+11   \n",
       "2  1.811656e+10  1.875347e+10  1.805323e+10  1.879945e+10  2.011614e+10   \n",
       "3  6.905464e+11  6.837487e+11  7.416899e+11  7.945430e+11  7.844457e+11   \n",
       "4  4.984049e+10  6.897276e+10  7.779294e+10  6.930910e+10  5.361907e+10   \n",
       "\n",
       "           2021  Unnamed: 66  \n",
       "0           NaN          NaN  \n",
       "1  1.082096e+12          NaN  \n",
       "2           NaN          NaN  \n",
       "3  8.358084e+11          NaN  \n",
       "4  7.254699e+10          NaN  \n",
       "\n",
       "[5 rows x 67 columns]"
      ]
     },
     "execution_count": 127,
     "metadata": {},
     "output_type": "execute_result"
    }
   ],
   "source": [
    "df.head()"
   ]
  },
  {
   "cell_type": "code",
   "execution_count": 128,
   "id": "47ca2a29",
   "metadata": {},
   "outputs": [
    {
     "data": {
      "text/plain": [
       "(266, 67)"
      ]
     },
     "execution_count": 128,
     "metadata": {},
     "output_type": "execute_result"
    }
   ],
   "source": [
    "df.shape"
   ]
  },
  {
   "cell_type": "code",
   "execution_count": 129,
   "id": "4c0bf9bc",
   "metadata": {},
   "outputs": [
    {
     "name": "stdout",
     "output_type": "stream",
     "text": [
      "<class 'pandas.core.frame.DataFrame'>\n",
      "RangeIndex: 266 entries, 0 to 265\n",
      "Data columns (total 67 columns):\n",
      " #   Column          Non-Null Count  Dtype  \n",
      "---  ------          --------------  -----  \n",
      " 0   Country Name    266 non-null    object \n",
      " 1   Country Code    266 non-null    object \n",
      " 2   Indicator Name  266 non-null    object \n",
      " 3   Indicator Code  266 non-null    object \n",
      " 4   1960            133 non-null    float64\n",
      " 5   1961            135 non-null    float64\n",
      " 6   1962            137 non-null    float64\n",
      " 7   1963            137 non-null    float64\n",
      " 8   1964            137 non-null    float64\n",
      " 9   1965            148 non-null    float64\n",
      " 10  1966            151 non-null    float64\n",
      " 11  1967            155 non-null    float64\n",
      " 12  1968            160 non-null    float64\n",
      " 13  1969            160 non-null    float64\n",
      " 14  1970            169 non-null    float64\n",
      " 15  1971            172 non-null    float64\n",
      " 16  1972            172 non-null    float64\n",
      " 17  1973            172 non-null    float64\n",
      " 18  1974            173 non-null    float64\n",
      " 19  1975            175 non-null    float64\n",
      " 20  1976            176 non-null    float64\n",
      " 21  1977            179 non-null    float64\n",
      " 22  1978            178 non-null    float64\n",
      " 23  1979            179 non-null    float64\n",
      " 24  1980            191 non-null    float64\n",
      " 25  1981            194 non-null    float64\n",
      " 26  1982            195 non-null    float64\n",
      " 27  1983            196 non-null    float64\n",
      " 28  1984            197 non-null    float64\n",
      " 29  1985            199 non-null    float64\n",
      " 30  1986            201 non-null    float64\n",
      " 31  1987            205 non-null    float64\n",
      " 32  1988            210 non-null    float64\n",
      " 33  1989            210 non-null    float64\n",
      " 34  1990            226 non-null    float64\n",
      " 35  1991            226 non-null    float64\n",
      " 36  1992            227 non-null    float64\n",
      " 37  1993            229 non-null    float64\n",
      " 38  1994            231 non-null    float64\n",
      " 39  1995            240 non-null    float64\n",
      " 40  1996            240 non-null    float64\n",
      " 41  1997            240 non-null    float64\n",
      " 42  1998            242 non-null    float64\n",
      " 43  1999            243 non-null    float64\n",
      " 44  2000            247 non-null    float64\n",
      " 45  2001            248 non-null    float64\n",
      " 46  2002            253 non-null    float64\n",
      " 47  2003            253 non-null    float64\n",
      " 48  2004            253 non-null    float64\n",
      " 49  2005            253 non-null    float64\n",
      " 50  2006            254 non-null    float64\n",
      " 51  2007            254 non-null    float64\n",
      " 52  2008            255 non-null    float64\n",
      " 53  2009            255 non-null    float64\n",
      " 54  2010            256 non-null    float64\n",
      " 55  2011            259 non-null    float64\n",
      " 56  2012            257 non-null    float64\n",
      " 57  2013            258 non-null    float64\n",
      " 58  2014            259 non-null    float64\n",
      " 59  2015            258 non-null    float64\n",
      " 60  2016            257 non-null    float64\n",
      " 61  2017            257 non-null    float64\n",
      " 62  2018            257 non-null    float64\n",
      " 63  2019            255 non-null    float64\n",
      " 64  2020            251 non-null    float64\n",
      " 65  2021            229 non-null    float64\n",
      " 66  Unnamed: 66     0 non-null      float64\n",
      "dtypes: float64(63), object(4)\n",
      "memory usage: 139.4+ KB\n"
     ]
    }
   ],
   "source": [
    "df.info()"
   ]
  }
 ],
 "metadata": {
  "kernelspec": {
   "display_name": "tensorflow_p385",
   "language": "python",
   "name": "tensorflow_p385"
  },
  "language_info": {
   "codemirror_mode": {
    "name": "ipython",
    "version": 3
   },
   "file_extension": ".py",
   "mimetype": "text/x-python",
   "name": "python",
   "nbconvert_exporter": "python",
   "pygments_lexer": "ipython3",
   "version": "3.8.5"
  }
 },
 "nbformat": 4,
 "nbformat_minor": 5
}
